{
 "cells": [
  {
   "cell_type": "code",
   "execution_count": 10,
   "metadata": {},
   "outputs": [],
   "source": [
    "from numerals.grammar import Number, Digit, Phrase, base_numerals_grammar, english_numerals_grammar\n",
    "from numerals.meaning import universe as numerals_universe\n",
    "\n",
    "from ultk.language.grammar import Grammar, Rule, GrammaticalExpression, Meaning\n",
    "\n",
    "from copy import deepcopy"
   ]
  },
  {
   "cell_type": "code",
   "execution_count": 11,
   "metadata": {},
   "outputs": [
    {
     "name": "stdout",
     "output_type": "stream",
     "text": [
      "Rules:\n",
      "\t~Number -> add(~Phrase, ~Number)\n",
      "\t~Number ->  (~Phrase)\n",
      "\t~Number -> sub(~Phrase, ~Number)\n",
      "\t<class 'bool'> -> *(~Number, tuple[ultk.language.semantics.Referent])\n",
      "\ttuple[ultk.language.semantics.Referent] -> .\n"
     ]
    }
   ],
   "source": [
    "print(base_numerals_grammar)"
   ]
  },
  {
   "cell_type": "code",
   "execution_count": null,
   "metadata": {},
   "outputs": [],
   "source": [
    "def get_expressions(g: Grammar) -> list[str]:\n",
    "    expressions_by_meaning: dict[\n",
    "        Meaning, GrammaticalExpression\n",
    "    ] = g.get_unique_expressions(\n",
    "        4,\n",
    "        max_size=2 ** len(numerals_universe),\n",
    "        unique_key=lambda expr: expr.evaluate(numerals_universe),\n",
    "        compare_func=lambda e1, e2: len(e1) < len(e2),\n",
    "    )\n",
    "    return {e.term_expression: {m.name for m in e.meaning if e.meaning[m]} for e in expressions_by_meaning.values()}"
   ]
  },
  {
   "cell_type": "code",
   "execution_count": 22,
   "metadata": {},
   "outputs": [],
   "source": [
    "# test adding a rule\n",
    "\n",
    "def add_digit_rule(g: Grammar, num: int) -> Grammar:\n",
    "    g.add_rule(\n",
    "        Rule(\n",
    "            name=f\"_{num}\",\n",
    "            lhs=Number, \n",
    "            rhs=None, # formally, of type Digit, for None since terminal\n",
    "            func=lambda _: num,\n",
    "        )\n",
    "    )\n",
    "    return g\n",
    "\n",
    "def add_mult_rule(g: Grammar, num: int) -> Grammar:\n",
    "    g.add_rule(\n",
    "        Rule(\n",
    "            name=f\"x{num}\",\n",
    "            lhs=Phrase,\n",
    "            rhs=[Number],\n",
    "            func=lambda x: x * num,\n",
    "        )\n",
    "    )\n",
    "    return g\n"
   ]
  },
  {
   "cell_type": "code",
   "execution_count": 23,
   "metadata": {},
   "outputs": [
    {
     "name": "stdout",
     "output_type": "stream",
     "text": [
      "Rules:\n",
      "\t~Number -> add(~Phrase, ~Number)\n",
      "\t~Number ->  (~Phrase)\n",
      "\t~Number -> sub(~Phrase, ~Number)\n",
      "\t~Number -> _1\n",
      "\t<class 'bool'> -> *(~Number, tuple[ultk.language.semantics.Referent])\n",
      "\ttuple[ultk.language.semantics.Referent] -> .\n",
      "\t~Phrase -> x10(~Number)\n"
     ]
    }
   ],
   "source": [
    "updated_grammar = add_digit_rule(deepcopy(base_numerals_grammar), 1)\n",
    "updated_grammar = add_mult_rule(updated_grammar, 10)\n",
    "print(updated_grammar)"
   ]
  },
  {
   "cell_type": "code",
   "execution_count": 15,
   "metadata": {},
   "outputs": [
    {
     "name": "stdout",
     "output_type": "stream",
     "text": [
      "Rules:\n",
      "\t~Number -> add(~Phrase, ~Number)\n",
      "\t~Number ->  (~Phrase)\n",
      "\t~Number -> sub(~Phrase, ~Number)\n",
      "\t<class 'bool'> -> *(~Number, tuple[ultk.language.semantics.Referent])\n",
      "\ttuple[ultk.language.semantics.Referent] -> .\n"
     ]
    }
   ],
   "source": [
    "print(base_numerals_grammar)"
   ]
  },
  {
   "cell_type": "code",
   "execution_count": 16,
   "metadata": {},
   "outputs": [
    {
     "data": {
      "text/plain": [
       "[]"
      ]
     },
     "execution_count": 16,
     "metadata": {},
     "output_type": "execute_result"
    }
   ],
   "source": [
    "get_expressions(base_numerals_grammar)"
   ]
  },
  {
   "cell_type": "code",
   "execution_count": 24,
   "metadata": {},
   "outputs": [
    {
     "data": {
      "text/plain": [
       "['*(_1, .)',\n",
       " '*(add(x10(_1), _1), .)',\n",
       " '*( (x10(_1)), .)',\n",
       " '*(sub(x10(_1), _1), .)']"
      ]
     },
     "execution_count": 24,
     "metadata": {},
     "output_type": "execute_result"
    }
   ],
   "source": [
    "get_expressions(updated_grammar)"
   ]
  },
  {
   "cell_type": "code",
   "execution_count": 19,
   "metadata": {},
   "outputs": [
    {
     "name": "stdout",
     "output_type": "stream",
     "text": [
      "Rules:\n",
      "\t~Number -> add(~Phrase, ~Number)\n",
      "\t~Number -> eight\n",
      "\t~Number -> five\n",
      "\t~Number -> four\n",
      "\t~Number -> nine\n",
      "\t~Number -> one\n",
      "\t~Number ->  (~Phrase)\n",
      "\t~Number -> seven\n",
      "\t~Number -> six\n",
      "\t~Number -> ten\n",
      "\t~Number -> three\n",
      "\t~Number -> two\n",
      "\t<class 'bool'> -> *(~Number, tuple[ultk.language.semantics.Referent])\n",
      "\ttuple[ultk.language.semantics.Referent] -> .\n",
      "\t~Phrase -> x10(~Number)\n"
     ]
    }
   ],
   "source": [
    "print(english_numerals_grammar)"
   ]
  },
  {
   "cell_type": "code",
   "execution_count": 18,
   "metadata": {},
   "outputs": [
    {
     "data": {
      "text/plain": [
       "['*(eight, .)',\n",
       " '*(five, .)',\n",
       " '*(four, .)',\n",
       " '*(nine, .)',\n",
       " '*(one, .)',\n",
       " '*(seven, .)',\n",
       " '*(six, .)',\n",
       " '*(ten, .)',\n",
       " '*(three, .)',\n",
       " '*(two, .)',\n",
       " '*(add(x10(eight), eight), .)',\n",
       " '*(add(x10(eight), five), .)',\n",
       " '*(add(x10(eight), four), .)',\n",
       " '*(add(x10(eight), nine), .)',\n",
       " '*(add(x10(eight), one), .)',\n",
       " '*(add(x10(eight), seven), .)',\n",
       " '*(add(x10(eight), six), .)',\n",
       " '*( (x10(nine)), .)',\n",
       " '*(add(x10(eight), three), .)',\n",
       " '*(add(x10(eight), two), .)',\n",
       " '*(add(x10(five), eight), .)',\n",
       " '*(add(x10(five), five), .)',\n",
       " '*(add(x10(five), four), .)',\n",
       " '*(add(x10(five), nine), .)',\n",
       " '*(add(x10(five), one), .)',\n",
       " '*(add(x10(five), seven), .)',\n",
       " '*(add(x10(five), six), .)',\n",
       " '*( (x10(six)), .)',\n",
       " '*(add(x10(five), three), .)',\n",
       " '*(add(x10(five), two), .)',\n",
       " '*(add(x10(four), eight), .)',\n",
       " '*(add(x10(four), five), .)',\n",
       " '*(add(x10(four), four), .)',\n",
       " '*(add(x10(four), nine), .)',\n",
       " '*(add(x10(four), one), .)',\n",
       " '*(add(x10(four), seven), .)',\n",
       " '*(add(x10(four), six), .)',\n",
       " '*( (x10(five)), .)',\n",
       " '*(add(x10(four), three), .)',\n",
       " '*(add(x10(four), two), .)',\n",
       " '*(add(x10(nine), eight), .)',\n",
       " '*(add(x10(nine), five), .)',\n",
       " '*(add(x10(nine), four), .)',\n",
       " '*(add(x10(nine), nine), .)',\n",
       " '*(add(x10(nine), one), .)',\n",
       " '*(add(x10(nine), seven), .)',\n",
       " '*(add(x10(nine), six), .)',\n",
       " '*( (x10(ten)), .)',\n",
       " '*(add(x10(nine), three), .)',\n",
       " '*(add(x10(nine), two), .)',\n",
       " '*(add(x10(one), eight), .)',\n",
       " '*(add(x10(one), five), .)',\n",
       " '*(add(x10(one), four), .)',\n",
       " '*(add(x10(one), nine), .)',\n",
       " '*(add(x10(one), one), .)',\n",
       " '*(add(x10(one), seven), .)',\n",
       " '*(add(x10(one), six), .)',\n",
       " '*( (x10(two)), .)',\n",
       " '*(add(x10(one), three), .)',\n",
       " '*(add(x10(one), two), .)',\n",
       " '*(add(x10(seven), eight), .)',\n",
       " '*(add(x10(seven), five), .)',\n",
       " '*(add(x10(seven), four), .)',\n",
       " '*(add(x10(seven), nine), .)',\n",
       " '*(add(x10(seven), one), .)',\n",
       " '*(add(x10(seven), seven), .)',\n",
       " '*(add(x10(seven), six), .)',\n",
       " '*( (x10(eight)), .)',\n",
       " '*(add(x10(seven), three), .)',\n",
       " '*(add(x10(seven), two), .)',\n",
       " '*(add(x10(six), eight), .)',\n",
       " '*(add(x10(six), five), .)',\n",
       " '*(add(x10(six), four), .)',\n",
       " '*(add(x10(six), nine), .)',\n",
       " '*(add(x10(six), one), .)',\n",
       " '*(add(x10(six), seven), .)',\n",
       " '*(add(x10(six), six), .)',\n",
       " '*( (x10(seven)), .)',\n",
       " '*(add(x10(six), three), .)',\n",
       " '*(add(x10(six), two), .)',\n",
       " '*(add(x10(three), eight), .)',\n",
       " '*(add(x10(three), five), .)',\n",
       " '*(add(x10(three), four), .)',\n",
       " '*(add(x10(three), nine), .)',\n",
       " '*(add(x10(three), one), .)',\n",
       " '*(add(x10(three), seven), .)',\n",
       " '*(add(x10(three), six), .)',\n",
       " '*( (x10(four)), .)',\n",
       " '*(add(x10(three), three), .)',\n",
       " '*(add(x10(three), two), .)',\n",
       " '*(add(x10(two), eight), .)',\n",
       " '*(add(x10(two), five), .)',\n",
       " '*(add(x10(two), four), .)',\n",
       " '*(add(x10(two), nine), .)',\n",
       " '*(add(x10(two), one), .)',\n",
       " '*(add(x10(two), seven), .)',\n",
       " '*(add(x10(two), six), .)',\n",
       " '*( (x10(three)), .)',\n",
       " '*(add(x10(two), three), .)',\n",
       " '*(add(x10(two), two), .)']"
      ]
     },
     "execution_count": 18,
     "metadata": {},
     "output_type": "execute_result"
    }
   ],
   "source": [
    "get_expressions(english_numerals_grammar)"
   ]
  }
 ],
 "metadata": {
  "kernelspec": {
   "display_name": "ultk",
   "language": "python",
   "name": "python3"
  },
  "language_info": {
   "codemirror_mode": {
    "name": "ipython",
    "version": 3
   },
   "file_extension": ".py",
   "mimetype": "text/x-python",
   "name": "python",
   "nbconvert_exporter": "python",
   "pygments_lexer": "ipython3",
   "version": "3.11.6"
  }
 },
 "nbformat": 4,
 "nbformat_minor": 2
}
