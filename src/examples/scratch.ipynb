{
 "cells": [
  {
   "cell_type": "code",
   "execution_count": 2,
   "metadata": {},
   "outputs": [],
   "source": [
    "from numerals.grammar import Number, Digit, Phrase, base_numerals_grammar, english_numerals_grammar\n",
    "from numerals.meaning import universe as numerals_universe\n",
    "\n",
    "from ultk.language.grammar import Grammar, Rule, GrammaticalExpression, Meaning\n",
    "\n",
    "from copy import deepcopy"
   ]
  },
  {
   "cell_type": "code",
   "execution_count": 3,
   "metadata": {},
   "outputs": [
    {
     "name": "stdout",
     "output_type": "stream",
     "text": [
      "Rules:\n",
      "\t~Number -> add(~Phrase, ~Number)\n",
      "\t~Number ->  (~Phrase)\n",
      "\t~Number -> sub(~Phrase, ~Number)\n",
      "\t<class 'bool'> -> *(~Number, tuple[ultk.language.semantics.Referent])\n",
      "\ttuple[ultk.language.semantics.Referent] -> .\n"
     ]
    }
   ],
   "source": [
    "print(base_numerals_grammar)"
   ]
  },
  {
   "cell_type": "code",
   "execution_count": 4,
   "metadata": {},
   "outputs": [],
   "source": [
    "def get_expressions(g: Grammar) -> list[str]:\n",
    "    expressions_by_meaning: dict[\n",
    "        Meaning, GrammaticalExpression\n",
    "    ] = g.get_unique_expressions(\n",
    "        4,\n",
    "        max_size=2 ** len(numerals_universe),\n",
    "        unique_key=lambda expr: expr.evaluate(numerals_universe),\n",
    "        compare_func=lambda e1, e2: len(e1) < len(e2),\n",
    "    )\n",
    "    return {e.term_expression: {m.name for m in e.meaning if e.meaning[m]} for e in expressions_by_meaning.values()}"
   ]
  },
  {
   "cell_type": "code",
   "execution_count": 5,
   "metadata": {},
   "outputs": [],
   "source": [
    "# test adding a rule\n",
    "\n",
    "def add_digit_rule(g: Grammar, num: int) -> Grammar:\n",
    "    g.add_rule(\n",
    "        Rule(\n",
    "            name=f\"_{num}\",\n",
    "            lhs=Number, \n",
    "            rhs=None, # formally, of type Digit, for None since terminal\n",
    "            func=lambda _: num,\n",
    "        )\n",
    "    )\n",
    "    return g\n",
    "\n",
    "def add_mult_rule(g: Grammar, num: int) -> Grammar:\n",
    "    g.add_rule(\n",
    "        Rule(\n",
    "            name=f\"x{num}\",\n",
    "            lhs=Phrase,\n",
    "            rhs=[Number],\n",
    "            func=lambda x: x * num,\n",
    "        )\n",
    "    )\n",
    "    return g\n"
   ]
  },
  {
   "cell_type": "code",
   "execution_count": 6,
   "metadata": {},
   "outputs": [
    {
     "name": "stdout",
     "output_type": "stream",
     "text": [
      "Rules:\n",
      "\t~Number -> add(~Phrase, ~Number)\n",
      "\t~Number ->  (~Phrase)\n",
      "\t~Number -> sub(~Phrase, ~Number)\n",
      "\t~Number -> _1\n",
      "\t<class 'bool'> -> *(~Number, tuple[ultk.language.semantics.Referent])\n",
      "\ttuple[ultk.language.semantics.Referent] -> .\n",
      "\t~Phrase -> x10(~Number)\n"
     ]
    }
   ],
   "source": [
    "updated_grammar = add_digit_rule(deepcopy(base_numerals_grammar), 1)\n",
    "updated_grammar = add_mult_rule(updated_grammar, 10)\n",
    "print(updated_grammar)"
   ]
  },
  {
   "cell_type": "code",
   "execution_count": 7,
   "metadata": {},
   "outputs": [
    {
     "name": "stdout",
     "output_type": "stream",
     "text": [
      "Rules:\n",
      "\t~Number -> add(~Phrase, ~Number)\n",
      "\t~Number ->  (~Phrase)\n",
      "\t~Number -> sub(~Phrase, ~Number)\n",
      "\t<class 'bool'> -> *(~Number, tuple[ultk.language.semantics.Referent])\n",
      "\ttuple[ultk.language.semantics.Referent] -> .\n"
     ]
    }
   ],
   "source": [
    "print(base_numerals_grammar)"
   ]
  },
  {
   "cell_type": "code",
   "execution_count": 8,
   "metadata": {},
   "outputs": [
    {
     "data": {
      "text/plain": [
       "{}"
      ]
     },
     "execution_count": 8,
     "metadata": {},
     "output_type": "execute_result"
    }
   ],
   "source": [
    "get_expressions(base_numerals_grammar)"
   ]
  },
  {
   "cell_type": "code",
   "execution_count": 9,
   "metadata": {},
   "outputs": [
    {
     "data": {
      "text/plain": [
       "{'*(_1, .)': {1},\n",
       " '*(add(x10(_1), _1), .)': {11},\n",
       " '*( (x10(_1)), .)': {10},\n",
       " '*(sub(x10(_1), _1), .)': {9}}"
      ]
     },
     "execution_count": 9,
     "metadata": {},
     "output_type": "execute_result"
    }
   ],
   "source": [
    "get_expressions(updated_grammar)"
   ]
  },
  {
   "cell_type": "code",
   "execution_count": 10,
   "metadata": {},
   "outputs": [
    {
     "name": "stdout",
     "output_type": "stream",
     "text": [
      "Rules:\n",
      "\t~Number -> add(~Phrase, ~Number)\n",
      "\t~Number -> eight\n",
      "\t~Number -> five\n",
      "\t~Number -> four\n",
      "\t~Number -> nine\n",
      "\t~Number -> one\n",
      "\t~Number ->  (~Phrase)\n",
      "\t~Number -> seven\n",
      "\t~Number -> six\n",
      "\t~Number -> ten\n",
      "\t~Number -> three\n",
      "\t~Number -> two\n",
      "\t<class 'bool'> -> *(~Number, tuple[ultk.language.semantics.Referent])\n",
      "\ttuple[ultk.language.semantics.Referent] -> .\n",
      "\t~Phrase -> x10(~Number)\n"
     ]
    }
   ],
   "source": [
    "print(english_numerals_grammar)"
   ]
  },
  {
   "cell_type": "code",
   "execution_count": 11,
   "metadata": {},
   "outputs": [
    {
     "data": {
      "text/plain": [
       "{'*(eight, .)': {8},\n",
       " '*(five, .)': {5},\n",
       " '*(four, .)': {4},\n",
       " '*(nine, .)': {9},\n",
       " '*(one, .)': {1},\n",
       " '*(seven, .)': {7},\n",
       " '*(six, .)': {6},\n",
       " '*(ten, .)': {10},\n",
       " '*(three, .)': {3},\n",
       " '*(two, .)': {2},\n",
       " '*(add(x10(eight), eight), .)': {88},\n",
       " '*(add(x10(eight), five), .)': {85},\n",
       " '*(add(x10(eight), four), .)': {84},\n",
       " '*(add(x10(eight), nine), .)': {89},\n",
       " '*(add(x10(eight), one), .)': {81},\n",
       " '*(add(x10(eight), seven), .)': {87},\n",
       " '*(add(x10(eight), six), .)': {86},\n",
       " '*( (x10(nine)), .)': {90},\n",
       " '*(add(x10(eight), three), .)': {83},\n",
       " '*(add(x10(eight), two), .)': {82},\n",
       " '*(add(x10(five), eight), .)': {58},\n",
       " '*(add(x10(five), five), .)': {55},\n",
       " '*(add(x10(five), four), .)': {54},\n",
       " '*(add(x10(five), nine), .)': {59},\n",
       " '*(add(x10(five), one), .)': {51},\n",
       " '*(add(x10(five), seven), .)': {57},\n",
       " '*(add(x10(five), six), .)': {56},\n",
       " '*( (x10(six)), .)': {60},\n",
       " '*(add(x10(five), three), .)': {53},\n",
       " '*(add(x10(five), two), .)': {52},\n",
       " '*(add(x10(four), eight), .)': {48},\n",
       " '*(add(x10(four), five), .)': {45},\n",
       " '*(add(x10(four), four), .)': {44},\n",
       " '*(add(x10(four), nine), .)': {49},\n",
       " '*(add(x10(four), one), .)': {41},\n",
       " '*(add(x10(four), seven), .)': {47},\n",
       " '*(add(x10(four), six), .)': {46},\n",
       " '*( (x10(five)), .)': {50},\n",
       " '*(add(x10(four), three), .)': {43},\n",
       " '*(add(x10(four), two), .)': {42},\n",
       " '*(add(x10(nine), eight), .)': {98},\n",
       " '*(add(x10(nine), five), .)': {95},\n",
       " '*(add(x10(nine), four), .)': {94},\n",
       " '*(add(x10(nine), nine), .)': {99},\n",
       " '*(add(x10(nine), one), .)': {91},\n",
       " '*(add(x10(nine), seven), .)': {97},\n",
       " '*(add(x10(nine), six), .)': {96},\n",
       " '*( (x10(ten)), .)': set(),\n",
       " '*(add(x10(nine), three), .)': {93},\n",
       " '*(add(x10(nine), two), .)': {92},\n",
       " '*(add(x10(one), eight), .)': {18},\n",
       " '*(add(x10(one), five), .)': {15},\n",
       " '*(add(x10(one), four), .)': {14},\n",
       " '*(add(x10(one), nine), .)': {19},\n",
       " '*(add(x10(one), one), .)': {11},\n",
       " '*(add(x10(one), seven), .)': {17},\n",
       " '*(add(x10(one), six), .)': {16},\n",
       " '*( (x10(two)), .)': {20},\n",
       " '*(add(x10(one), three), .)': {13},\n",
       " '*(add(x10(one), two), .)': {12},\n",
       " '*(add(x10(seven), eight), .)': {78},\n",
       " '*(add(x10(seven), five), .)': {75},\n",
       " '*(add(x10(seven), four), .)': {74},\n",
       " '*(add(x10(seven), nine), .)': {79},\n",
       " '*(add(x10(seven), one), .)': {71},\n",
       " '*(add(x10(seven), seven), .)': {77},\n",
       " '*(add(x10(seven), six), .)': {76},\n",
       " '*( (x10(eight)), .)': {80},\n",
       " '*(add(x10(seven), three), .)': {73},\n",
       " '*(add(x10(seven), two), .)': {72},\n",
       " '*(add(x10(six), eight), .)': {68},\n",
       " '*(add(x10(six), five), .)': {65},\n",
       " '*(add(x10(six), four), .)': {64},\n",
       " '*(add(x10(six), nine), .)': {69},\n",
       " '*(add(x10(six), one), .)': {61},\n",
       " '*(add(x10(six), seven), .)': {67},\n",
       " '*(add(x10(six), six), .)': {66},\n",
       " '*( (x10(seven)), .)': {70},\n",
       " '*(add(x10(six), three), .)': {63},\n",
       " '*(add(x10(six), two), .)': {62},\n",
       " '*(add(x10(three), eight), .)': {38},\n",
       " '*(add(x10(three), five), .)': {35},\n",
       " '*(add(x10(three), four), .)': {34},\n",
       " '*(add(x10(three), nine), .)': {39},\n",
       " '*(add(x10(three), one), .)': {31},\n",
       " '*(add(x10(three), seven), .)': {37},\n",
       " '*(add(x10(three), six), .)': {36},\n",
       " '*( (x10(four)), .)': {40},\n",
       " '*(add(x10(three), three), .)': {33},\n",
       " '*(add(x10(three), two), .)': {32},\n",
       " '*(add(x10(two), eight), .)': {28},\n",
       " '*(add(x10(two), five), .)': {25},\n",
       " '*(add(x10(two), four), .)': {24},\n",
       " '*(add(x10(two), nine), .)': {29},\n",
       " '*(add(x10(two), one), .)': {21},\n",
       " '*(add(x10(two), seven), .)': {27},\n",
       " '*(add(x10(two), six), .)': {26},\n",
       " '*( (x10(three)), .)': {30},\n",
       " '*(add(x10(two), three), .)': {23},\n",
       " '*(add(x10(two), two), .)': {22}}"
      ]
     },
     "execution_count": 11,
     "metadata": {},
     "output_type": "execute_result"
    }
   ],
   "source": [
    "get_expressions(english_numerals_grammar)"
   ]
  },
  {
   "cell_type": "markdown",
   "metadata": {},
   "source": [
    "next, try removing a grammar rule."
   ]
  },
  {
   "cell_type": "code",
   "execution_count": null,
   "metadata": {},
   "outputs": [
    {
     "data": {
      "text/plain": [
       "[Rule(name='add', lhs=~Number, rhs=(~Phrase, ~Number), func=<function add at 0x123c6b100>, weight=1.0),\n",
       " Rule(name=' ', lhs=~Number, rhs=(~Phrase,), func=<function phrase at 0x123c6b240>, weight=1.0),\n",
       " Rule(name='sub', lhs=~Number, rhs=(~Phrase, ~Number), func=<function sub at 0x123c6b1a0>, weight=1.0),\n",
       " Rule(name='_1', lhs=~Number, rhs=None, func=<function add_digit_rule.<locals>.<lambda> at 0x123c80e00>, weight=1.0),\n",
       " Rule(name='*', lhs=<class 'bool'>, rhs=(~Number, tuple[ultk.language.semantics.Referent]), func=<function apply_et at 0x123c6b060>, weight=1.0),\n",
       " Rule(name='.', lhs=tuple[ultk.language.semantics.Referent], rhs=None, func=<function bind at 0x123c6afc0>, weight=1.0),\n",
       " Rule(name='x10', lhs=~Phrase, rhs=[~Number], func=<function add_mult_rule.<locals>.<lambda> at 0x123c80f40>, weight=1.0)]"
      ]
     },
     "execution_count": 12,
     "metadata": {},
     "output_type": "execute_result"
    }
   ],
   "source": [
    "# iterate over rules and find one corresponding to an M rule or D rule\n",
    "# then del from dict\n",
    "updated_grammar._rules"
   ]
  },
  {
   "cell_type": "code",
   "execution_count": 15,
   "metadata": {},
   "outputs": [
    {
     "name": "stdout",
     "output_type": "stream",
     "text": [
      "add False\n",
      "* False\n",
      ". False\n",
      "  False\n",
      "sub False\n",
      "_1 True\n",
      "x10 False\n"
     ]
    }
   ],
   "source": [
    "def is_D_rule(rule: Rule) -> bool:\n",
    "    return rule.lhs == Number and rule.rhs is None\n",
    "\n",
    "for k, v in updated_grammar._rules_by_name.items():\n",
    "    print(k, is_D_rule(v))"
   ]
  },
  {
   "cell_type": "code",
   "execution_count": 16,
   "metadata": {},
   "outputs": [
    {
     "name": "stdout",
     "output_type": "stream",
     "text": [
      "add False\n",
      "* False\n",
      ". False\n",
      "  False\n",
      "sub False\n",
      "_1 False\n",
      "x10 True\n"
     ]
    }
   ],
   "source": [
    "def is_M_rule(rule: Rule) -> bool:\n",
    "    return rule.lhs == Phrase and rule.rhs == [Number]\n",
    "\n",
    "for k, v in updated_grammar._rules_by_name.items():\n",
    "    print(k, is_M_rule(v))"
   ]
  },
  {
   "cell_type": "code",
   "execution_count": null,
   "metadata": {},
   "outputs": [],
   "source": [
    "import random\n",
    "\n",
    "def remove_D_rule(grammar: Grammar) -> Grammar:\n",
    "    D_rules = [rule for rule in grammar._rules_by_name if is_D_rule(grammar._rules_by_name[rule])]\n",
    "    rule_to_remove = random.choice(D_rules)\n",
    "    new_rules = [rule for name, rule in grammar._rules_by_name.items() if name != rule_to_remove]\n",
    "    new_grammar = Grammar(grammar._start)\n",
    "    for rule in new_rules:\n",
    "        new_grammar.add_rule(rule)\n",
    "    return new_grammar"
   ]
  },
  {
   "cell_type": "code",
   "execution_count": 18,
   "metadata": {},
   "outputs": [
    {
     "ename": "TypeError",
     "evalue": "unhashable type: 'list'",
     "output_type": "error",
     "traceback": [
      "\u001b[0;31m---------------------------------------------------------------------------\u001b[0m",
      "\u001b[0;31mTypeError\u001b[0m                                 Traceback (most recent call last)",
      "Cell \u001b[0;32mIn[18], line 1\u001b[0m\n\u001b[0;32m----> 1\u001b[0m updated_grammar \u001b[38;5;241m=\u001b[39m \u001b[43mremove_D_rule\u001b[49m\u001b[43m(\u001b[49m\u001b[43mupdated_grammar\u001b[49m\u001b[43m)\u001b[49m\n\u001b[1;32m      2\u001b[0m \u001b[38;5;28mprint\u001b[39m(updated_grammar)\n",
      "Cell \u001b[0;32mIn[17], line 6\u001b[0m, in \u001b[0;36mremove_D_rule\u001b[0;34m(grammar)\u001b[0m\n\u001b[1;32m      4\u001b[0m D_rules \u001b[38;5;241m=\u001b[39m [rule \u001b[38;5;28;01mfor\u001b[39;00m rule \u001b[38;5;129;01min\u001b[39;00m grammar\u001b[38;5;241m.\u001b[39m_rules_by_name \u001b[38;5;28;01mif\u001b[39;00m is_D_rule(grammar\u001b[38;5;241m.\u001b[39m_rules_by_name[rule])]\n\u001b[1;32m      5\u001b[0m rule_to_remove \u001b[38;5;241m=\u001b[39m random\u001b[38;5;241m.\u001b[39mchoice(D_rules)\n\u001b[0;32m----> 6\u001b[0m new_rules \u001b[38;5;241m=\u001b[39m {rule \u001b[38;5;28;01mfor\u001b[39;00m name, rule \u001b[38;5;129;01min\u001b[39;00m grammar\u001b[38;5;241m.\u001b[39m_rules_by_name\u001b[38;5;241m.\u001b[39mitems() \u001b[38;5;28;01mif\u001b[39;00m name \u001b[38;5;241m!=\u001b[39m rule_to_remove}\n\u001b[1;32m      7\u001b[0m new_grammar \u001b[38;5;241m=\u001b[39m Grammar(grammar\u001b[38;5;241m.\u001b[39m_start)\n\u001b[1;32m      8\u001b[0m \u001b[38;5;28;01mfor\u001b[39;00m rule \u001b[38;5;129;01min\u001b[39;00m new_rules:\n",
      "File \u001b[0;32m<string>:26\u001b[0m, in \u001b[0;36m__hash__\u001b[0;34m(self)\u001b[0m\n",
      "\u001b[0;31mTypeError\u001b[0m: unhashable type: 'list'"
     ]
    }
   ],
   "source": [
    "updated_grammar = remove_D_rule(updated_grammar)\n",
    "print(updated_grammar)"
   ]
  }
 ],
 "metadata": {
  "kernelspec": {
   "display_name": "ultk",
   "language": "python",
   "name": "python3"
  },
  "language_info": {
   "codemirror_mode": {
    "name": "ipython",
    "version": 3
   },
   "file_extension": ".py",
   "mimetype": "text/x-python",
   "name": "python",
   "nbconvert_exporter": "python",
   "pygments_lexer": "ipython3",
   "version": "3.13.1"
  }
 },
 "nbformat": 4,
 "nbformat_minor": 2
}
