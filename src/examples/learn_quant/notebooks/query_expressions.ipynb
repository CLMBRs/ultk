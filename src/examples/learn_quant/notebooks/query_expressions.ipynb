{
 "cells": [
  {
   "cell_type": "code",
   "execution_count": 11,
   "metadata": {},
   "outputs": [],
   "source": [
    "%%capture\n",
    "%cd ../.."
   ]
  },
  {
   "cell_type": "code",
   "execution_count": 12,
   "metadata": {},
   "outputs": [],
   "source": [
    "import psycopg\n",
    "import numpy as np\n",
    "import pandas as pd"
   ]
  },
  {
   "cell_type": "markdown",
   "metadata": {},
   "source": [
    "#### Connect to PostgreSQL database"
   ]
  },
  {
   "cell_type": "code",
   "execution_count": 61,
   "metadata": {},
   "outputs": [],
   "source": [
    "conn = psycopg.connect('postgresql://haberc@localhost:5432/mlflow_db')"
   ]
  },
  {
   "cell_type": "markdown",
   "metadata": {},
   "source": [
    "#### Print DB version"
   ]
  },
  {
   "cell_type": "code",
   "execution_count": 15,
   "metadata": {},
   "outputs": [
    {
     "name": "stdout",
     "output_type": "stream",
     "text": [
      "Database version: (b'PostgreSQL 13.18 (Debian 13.18-1.pgdg120+1) on x86_64-pc-linux-gnu, compiled by gcc (Debian 12.2.0-14) 12.2.0, 64-bit',)\n"
     ]
    }
   ],
   "source": [
    "cur = conn.cursor()\n",
    "cur.execute(\"SELECT version();\")\n",
    "db_version = cur.fetchone()\n",
    "print(\"Database version:\", db_version)\n",
    "cur.close()"
   ]
  },
  {
   "cell_type": "markdown",
   "metadata": {},
   "source": [
    "#### Get list of table names"
   ]
  },
  {
   "cell_type": "code",
   "execution_count": 16,
   "metadata": {},
   "outputs": [
    {
     "name": "stdout",
     "output_type": "stream",
     "text": [
      "b'public' b'metrics'\n",
      "b'public' b'tags'\n",
      "b'public' b'runs'\n",
      "b'public' b'experiments'\n",
      "b'public' b'params'\n",
      "b'public' b'alembic_version'\n",
      "b'public' b'experiment_tags'\n",
      "b'public' b'latest_metrics'\n",
      "b'public' b'registered_models'\n",
      "b'public' b'registered_model_tags'\n",
      "b'public' b'model_version_tags'\n",
      "b'public' b'registered_model_aliases'\n",
      "b'public' b'datasets'\n",
      "b'public' b'inputs'\n",
      "b'public' b'input_tags'\n",
      "b'public' b'model_versions'\n",
      "b'public' b'trace_info'\n",
      "b'public' b'trace_tags'\n",
      "b'public' b'trace_request_metadata'\n"
     ]
    }
   ],
   "source": [
    "cur = conn.cursor()\n",
    "cur.execute(\"\"\"\n",
    "    SELECT table_schema, table_name\n",
    "    FROM information_schema.tables\n",
    "    WHERE table_schema NOT IN ('information_schema','pg_catalog');\n",
    "\"\"\")\n",
    "for schema, table in cur.fetchall():\n",
    "    print(schema, table)\n",
    "cur.close()"
   ]
  },
  {
   "cell_type": "markdown",
   "metadata": {},
   "source": [
    "#### Get column names in a table"
   ]
  },
  {
   "cell_type": "code",
   "execution_count": 17,
   "metadata": {},
   "outputs": [
    {
     "name": "stdout",
     "output_type": "stream",
     "text": [
      "b'value' b'double precision' b'NO'\n",
      "b'timestamp' b'bigint' b'NO'\n",
      "b'step' b'bigint' b'NO'\n",
      "b'is_nan' b'boolean' b'NO'\n",
      "b'key' b'character varying' b'NO'\n",
      "b'run_uuid' b'character varying' b'NO'\n"
     ]
    }
   ],
   "source": [
    "cur = conn.cursor()\n",
    "table_name = 'metrics'  # or 'metrics', 'experiments', etc.\n",
    "cur.execute(f\"\"\"\n",
    "    SELECT column_name, data_type, is_nullable\n",
    "    FROM information_schema.columns\n",
    "    WHERE table_name='{table_name}';\n",
    "\"\"\")\n",
    "for col_name, data_type, nullable in cur.fetchall():\n",
    "    print(col_name, data_type, nullable)\n",
    "cur.close()"
   ]
  },
  {
   "cell_type": "markdown",
   "metadata": {},
   "source": [
    "#### Get sample rows of a particular metric"
   ]
  },
  {
   "cell_type": "code",
   "execution_count": 18,
   "metadata": {},
   "outputs": [
    {
     "name": "stdout",
     "output_type": "stream",
     "text": [
      "(b'2584f01fc39d4c34873889aec3c52f40', b'val_loss', 0.046362895518541336, 1737429618743)\n",
      "(b'2d838fe9ee074ae991c156994046486d', b'val_loss', 0.0033043138682842255, 1737429608348)\n",
      "(b'2b87373685944d64ac3ffb841a24f13c', b'val_loss', 0.0005870313034392893, 1737429604020)\n",
      "(b'2584f01fc39d4c34873889aec3c52f40', b'val_loss', 0.04606363922357559, 1737429598734)\n",
      "(b'45ae77024d384aeb95c3d39050f827a3', b'val_loss', 0.08835887908935547, 1737429594450)\n",
      "(b'2d838fe9ee074ae991c156994046486d', b'val_loss', 0.002942719729617238, 1737429588330)\n",
      "(b'1b2daa558e644ce3a41ddfd9336820d7', b'val_loss', 0.014380989596247673, 1737429587329)\n",
      "(b'9a56b82564a849e19bfd8159812cf3a6', b'val_loss', 0.02664834074676037, 1737429585934)\n",
      "(b'89d7238017654278b82dae381e17572c', b'val_loss', 0.005060948897153139, 1737429583394)\n",
      "(b'2b87373685944d64ac3ffb841a24f13c', b'val_loss', 0.0006275245686993003, 1737429583083)\n"
     ]
    }
   ],
   "source": [
    "cur = conn.cursor()\n",
    "cur.execute(\"\"\"\n",
    "    SELECT r.run_uuid, m.key, m.value, m.timestamp\n",
    "    FROM runs AS r\n",
    "    JOIN metrics AS m\n",
    "      ON r.run_uuid = m.run_uuid\n",
    "    WHERE m.key = 'val_loss'\n",
    "    ORDER BY m.timestamp DESC\n",
    "    LIMIT 10;\n",
    "\"\"\")\n",
    "rows = cur.fetchall()\n",
    "for row in rows:\n",
    "    print(row)\n",
    "cur.close()"
   ]
  },
  {
   "cell_type": "markdown",
   "metadata": {},
   "source": [
    "#### Utilize function that opens and closes the cursor"
   ]
  },
  {
   "cell_type": "code",
   "execution_count": 19,
   "metadata": {},
   "outputs": [],
   "source": [
    "def execute_query(query, conn, limit=None):\n",
    "    if limit:\n",
    "        query += f\" LIMIT {limit};\"\n",
    "    with conn.cursor() as cursor:\n",
    "        cursor.execute(query)\n",
    "        return cursor.fetchall()"
   ]
  },
  {
   "cell_type": "code",
   "execution_count": 20,
   "metadata": {},
   "outputs": [],
   "source": [
    "query = \"\"\"\n",
    "SELECT r.run_uuid,\n",
    "       p.value         AS term_expression,\n",
    "       m.key           AS metric_key,\n",
    "       m.value         AS metric_value,\n",
    "       m.timestamp     AS metric_timestamp\n",
    "  FROM runs r\n",
    "  JOIN params p\n",
    "    ON r.run_uuid = p.run_uuid\n",
    "  JOIN metrics m\n",
    "    ON r.run_uuid = m.run_uuid\n",
    " WHERE p.key = 'expression'\n",
    " ORDER BY r.run_uuid, m.key\n",
    "\"\"\""
   ]
  },
  {
   "cell_type": "code",
   "execution_count": 21,
   "metadata": {},
   "outputs": [
    {
     "data": {
      "text/plain": [
       "[(b'00089b1e345f4cd7b731268ef95402e2',\n",
       "  b'subset_eq(index(cardinality(intersection(A, B)), union(difference(A, B), difference(B, A))), union(index(cardinality(A), B), index(cardinality(B), union(A, B))))',\n",
       "  b'epoch',\n",
       "  0.0,\n",
       "  1737372433357),\n",
       " (b'00089b1e345f4cd7b731268ef95402e2',\n",
       "  b'subset_eq(index(cardinality(intersection(A, B)), union(difference(A, B), difference(B, A))), union(index(cardinality(A), B), index(cardinality(B), union(A, B))))',\n",
       "  b'epoch',\n",
       "  0.0,\n",
       "  1737372454144),\n",
       " (b'00089b1e345f4cd7b731268ef95402e2',\n",
       "  b'subset_eq(index(cardinality(intersection(A, B)), union(difference(A, B), difference(B, A))), union(index(cardinality(A), B), index(cardinality(B), union(A, B))))',\n",
       "  b'epoch',\n",
       "  0.0,\n",
       "  1737372417797),\n",
       " (b'00089b1e345f4cd7b731268ef95402e2',\n",
       "  b'subset_eq(index(cardinality(intersection(A, B)), union(difference(A, B), difference(B, A))), union(index(cardinality(A), B), index(cardinality(B), union(A, B))))',\n",
       "  b'epoch',\n",
       "  0.0,\n",
       "  1737372424821),\n",
       " (b'00089b1e345f4cd7b731268ef95402e2',\n",
       "  b'subset_eq(index(cardinality(intersection(A, B)), union(difference(A, B), difference(B, A))), union(index(cardinality(A), B), index(cardinality(B), union(A, B))))',\n",
       "  b'epoch',\n",
       "  0.0,\n",
       "  1737372440268),\n",
       " (b'00089b1e345f4cd7b731268ef95402e2',\n",
       "  b'subset_eq(index(cardinality(intersection(A, B)), union(difference(A, B), difference(B, A))), union(index(cardinality(A), B), index(cardinality(B), union(A, B))))',\n",
       "  b'epoch',\n",
       "  0.0,\n",
       "  1737372446994),\n",
       " (b'00089b1e345f4cd7b731268ef95402e2',\n",
       "  b'subset_eq(index(cardinality(intersection(A, B)), union(difference(A, B), difference(B, A))), union(index(cardinality(A), B), index(cardinality(B), union(A, B))))',\n",
       "  b'epoch',\n",
       "  0.0,\n",
       "  1737372391672),\n",
       " (b'00089b1e345f4cd7b731268ef95402e2',\n",
       "  b'subset_eq(index(cardinality(intersection(A, B)), union(difference(A, B), difference(B, A))), union(index(cardinality(A), B), index(cardinality(B), union(A, B))))',\n",
       "  b'epoch',\n",
       "  0.0,\n",
       "  1737372409083),\n",
       " (b'00089b1e345f4cd7b731268ef95402e2',\n",
       "  b'subset_eq(index(cardinality(intersection(A, B)), union(difference(A, B), difference(B, A))), union(index(cardinality(A), B), index(cardinality(B), union(A, B))))',\n",
       "  b'epoch',\n",
       "  0.0,\n",
       "  1737372425071),\n",
       " (b'00089b1e345f4cd7b731268ef95402e2',\n",
       "  b'subset_eq(index(cardinality(intersection(A, B)), union(difference(A, B), difference(B, A))), union(index(cardinality(A), B), index(cardinality(B), union(A, B))))',\n",
       "  b'epoch',\n",
       "  0.0,\n",
       "  1737372454379)]"
      ]
     },
     "execution_count": 21,
     "metadata": {},
     "output_type": "execute_result"
    }
   ],
   "source": [
    "execute_query(query=query, conn=conn, limit=10)"
   ]
  },
  {
   "cell_type": "markdown",
   "metadata": {},
   "source": [
    "#### Get a sample of logged parameter key names"
   ]
  },
  {
   "cell_type": "code",
   "execution_count": 22,
   "metadata": {},
   "outputs": [
    {
     "name": "stdout",
     "output_type": "stream",
     "text": [
      "key= (b'expressions_generation_args_n_limit',)\n",
      "key= (b'expressions_representation',)\n",
      "key= (b'childrun_seed',)\n",
      "key= (b'optimizer_lr',)\n",
      "key= (b'foreach',)\n",
      "key= (b'tracking_port',)\n",
      "key= (b'training_k_splits',)\n",
      "key= (b'expressions_generation_args_inclusive',)\n",
      "key= (b'grammar_path',)\n",
      "key= (b'training_device',)\n",
      "key= (b'model__target_',)\n",
      "key= (b'experiment_name',)\n",
      "key= (b'differentiable',)\n",
      "key= (b'expressions_index',)\n",
      "key= (b'weight_decay',)\n",
      "key= (b'training_early_stopping_patience',)\n",
      "key= (b'training_early_stopping_mode',)\n",
      "key= (b'grammar_indices',)\n",
      "key= (b'model_input_dim',)\n",
      "key= (b'training_early_stopping_min_delta',)\n",
      "key= (b'grammar_index_weight',)\n",
      "key= (b'training_lightning',)\n",
      "key= (b'expressions_downsampling',)\n",
      "key= (b'measures_monotonicity_direction',)\n",
      "key= (b'optimizer__target_',)\n",
      "key= (b'measures_target',)\n",
      "key= (b'expressions_batch_size',)\n",
      "key= (b'capturable',)\n",
      "key= (b'lr',)\n",
      "key= (b'epochs',)\n",
      "key= (b'model_seq_len',)\n",
      "key= (b'maximize',)\n",
      "key= (b'measures_monotonicity_debug',)\n",
      "key= (b'expression',)\n",
      "key= (b'model__partial_',)\n",
      "key= (b'training_epochs',)\n",
      "key= (b'training_early_stopping_threshold',)\n",
      "key= (b'expressions_n_limit',)\n",
      "key= (b'universe_x_size',)\n",
      "key= (b'tracking_host',)\n",
      "key= (b'training_early_stopping_monitor',)\n",
      "key= (b'universe_m_size',)\n",
      "key= (b'expressions_generation_args_batch_size',)\n",
      "key= (b'betas',)\n",
      "key= (b'tracking_max_retries',)\n",
      "key= (b'criterion__target_',)\n",
      "key= (b'training_early_stopping_check_on_train_epoch_end',)\n",
      "key= (b'expressions_data_partition',)\n",
      "key= (b'mainrun_seed',)\n",
      "key= (b'expressions_generation_args_entropy_threshold',)\n",
      "key= (b'eps',)\n",
      "key= (b'training_strategy',)\n",
      "key= (b'expressions_depth',)\n",
      "key= (b'slurm_jobs',)\n",
      "key= (b'expression_indices',)\n",
      "key= (b'training_conditions',)\n",
      "key= (b'notes',)\n",
      "key= (b'expressions_generation_args_M_size',)\n",
      "key= (b'expressions_split',)\n",
      "key= (b'expressions_output_dir',)\n",
      "key= (b'amsgrad',)\n",
      "key= (b'expressions_generation_args_X_size',)\n",
      "key= (b'optimizer_name',)\n",
      "key= (b'tracking_backoff_factor',)\n",
      "key= (b'fused',)\n",
      "key= (b'optimizer__partial_',)\n",
      "key= (b'training_n_runs',)\n",
      "key= (b'measures_monotonicity_universe_filter',)\n",
      "key= (b'expression_depth',)\n"
     ]
    }
   ],
   "source": [
    "cur = conn.cursor()\n",
    "cur.execute(\"\"\"\n",
    "    SELECT DISTINCT key\n",
    "    FROM params\n",
    "    LIMIT 500;\n",
    "\"\"\")\n",
    "rows = cur.fetchall()\n",
    "for key in rows:\n",
    "    print(\"key=\", key)\n",
    "cur.close()"
   ]
  },
  {
   "cell_type": "markdown",
   "metadata": {},
   "source": [
    "### Sample the distinct metrics available"
   ]
  },
  {
   "cell_type": "code",
   "execution_count": 23,
   "metadata": {},
   "outputs": [
    {
     "data": {
      "text/plain": [
       "[(b'epoch',),\n",
       " (b'global_step',),\n",
       " (b'monotonicity_entropic',),\n",
       " (b'train_loss',),\n",
       " (b'train_loss_epoch',),\n",
       " (b'train_loss_step',),\n",
       " (b'val_loss',),\n",
       " (b'val_loss_epoch',),\n",
       " (b'val_loss_running_avg50',),\n",
       " (b'val_loss_step',)]"
      ]
     },
     "execution_count": 23,
     "metadata": {},
     "output_type": "execute_result"
    }
   ],
   "source": [
    "query = \"\"\"SELECT DISTINCT key\n",
    "FROM metrics\n",
    "ORDER BY key\n",
    "LIMIT 50;  -- or however many rows you'd like to sample\n",
    "\"\"\"\n",
    "execute_query(query=query, conn=conn)"
   ]
  },
  {
   "cell_type": "markdown",
   "metadata": {},
   "source": [
    "### Query to get the earliest training step before a particular val loss"
   ]
  },
  {
   "cell_type": "code",
   "execution_count": 32,
   "metadata": {},
   "outputs": [],
   "source": [
    "earliest_query = \"\"\"SELECT\n",
    "    p.value AS expression,\n",
    "    COALESCE(MIN(m.step)::text, 'does not exist') AS first_step\n",
    "FROM runs r\n",
    "JOIN params p\n",
    "    ON r.run_uuid = p.run_uuid\n",
    "    -- We'll get all expressions from the params table\n",
    "    -- but only those with p.key = 'expression'\n",
    "    AND p.key = 'expression'\n",
    "LEFT JOIN metrics m\n",
    "    ON r.run_uuid = m.run_uuid\n",
    "    -- We only want rows where the metric is `val_loss_running_avg50` AND < 0.05\n",
    "    AND m.key = 'val_loss_running_avg50'\n",
    "    AND m.value < 0.05\n",
    "GROUP BY p.value\n",
    "ORDER BY p.value\n",
    "\"\"\""
   ]
  },
  {
   "cell_type": "markdown",
   "metadata": {},
   "source": [
    "#### Add in join on expression_id / name to limit to particular experiments"
   ]
  },
  {
   "cell_type": "code",
   "execution_count": 58,
   "metadata": {},
   "outputs": [],
   "source": [
    "earliest_query_2 = \"\"\"\n",
    "SELECT\n",
    "    p.value AS expression,\n",
    "    COALESCE(MIN(m.step)::text, 'does not exist') AS first_step\n",
    "FROM runs r\n",
    "-- Join the experiment so we can filter by its name\n",
    "JOIN experiments e\n",
    "    ON r.experiment_id = e.experiment_id\n",
    "-- Get your 'expression' parameter\n",
    "JOIN params p\n",
    "    ON r.run_uuid = p.run_uuid\n",
    "   AND p.key = 'expression'\n",
    "-- Optional LEFT JOIN on metrics for the earliest step below threshold\n",
    "LEFT JOIN metrics m\n",
    "    ON r.run_uuid = m.run_uuid\n",
    "   AND m.key = 'val_loss_running_avg50'\n",
    "   AND m.value < 0.05\n",
    "-- Filter by experiment name\n",
    "WHERE e.name = 'expressions_shuffled_2k'\n",
    "GROUP BY p.value\n",
    "ORDER BY p.value;\n",
    "\"\"\""
   ]
  },
  {
   "cell_type": "code",
   "execution_count": 59,
   "metadata": {},
   "outputs": [],
   "source": [
    "earliest_query_3 = \"\"\"\n",
    "SELECT\n",
    "    p.value AS expression,\n",
    "    COALESCE(MIN(m.step)::text, 'does not exist') AS first_step\n",
    "FROM runs r\n",
    "JOIN params p\n",
    "    ON r.run_uuid = p.run_uuid\n",
    "   AND p.key = 'expression'\n",
    "LEFT JOIN metrics m\n",
    "    ON r.run_uuid = m.run_uuid\n",
    "   AND m.key = 'val_loss_running_avg50'\n",
    "   AND m.value < 0.05\n",
    "WHERE r.experiment_id = 42  -- <--- your experiment's numeric ID - 40 is expressions_shuffled_2k, 42 is 'repeated_runs'\n",
    "GROUP BY p.value\n",
    "ORDER BY p.value;\n",
    "\"\"\""
   ]
  },
  {
   "cell_type": "code",
   "execution_count": 62,
   "metadata": {},
   "outputs": [],
   "source": [
    "earliest_result = execute_query(query=earliest_query_3, conn=conn)"
   ]
  },
  {
   "cell_type": "code",
   "execution_count": 63,
   "metadata": {},
   "outputs": [
    {
     "data": {
      "text/plain": [
       "2000"
      ]
     },
     "execution_count": 63,
     "metadata": {},
     "output_type": "execute_result"
    }
   ],
   "source": [
    "len(earliest_result)"
   ]
  },
  {
   "cell_type": "markdown",
   "metadata": {},
   "source": [
    "##### Get id with name of experiment"
   ]
  },
  {
   "cell_type": "code",
   "execution_count": 28,
   "metadata": {},
   "outputs": [],
   "source": [
    "query = \"\"\"SELECT experiment_id\n",
    "FROM experiments\n",
    "WHERE name = 'repeated_runs';\n",
    "\"\"\""
   ]
  },
  {
   "cell_type": "code",
   "execution_count": 29,
   "metadata": {},
   "outputs": [
    {
     "data": {
      "text/plain": [
       "[(42,)]"
      ]
     },
     "execution_count": 29,
     "metadata": {},
     "output_type": "execute_result"
    }
   ],
   "source": [
    "execute_query(query=query, conn=conn)"
   ]
  },
  {
   "cell_type": "markdown",
   "metadata": {},
   "source": [
    "#### Create dataframe of expressions and associated metrics"
   ]
  },
  {
   "cell_type": "code",
   "execution_count": 34,
   "metadata": {},
   "outputs": [],
   "source": [
    "import pandas as pd"
   ]
  },
  {
   "cell_type": "code",
   "execution_count": 77,
   "metadata": {},
   "outputs": [],
   "source": [
    "df = pd.DataFrame(earliest_result, columns=['expression', 'first_step'])"
   ]
  },
  {
   "cell_type": "code",
   "execution_count": 78,
   "metadata": {},
   "outputs": [],
   "source": [
    "# Decode bytes to strings\n",
    "\n",
    "def decode_if_bytes(x):\n",
    "    if isinstance(x, bytes):\n",
    "        return x.decode(\"utf-8\")\n",
    "    return x\n",
    "\n",
    "df[\"expression\"] = df[\"expression\"].apply(decode_if_bytes)\n",
    "df[\"first_step\"] = df[\"first_step\"].apply(decode_if_bytes)"
   ]
  },
  {
   "cell_type": "markdown",
   "metadata": {},
   "source": [
    "### Get runs for which there was no training done"
   ]
  },
  {
   "cell_type": "code",
   "execution_count": 66,
   "metadata": {},
   "outputs": [],
   "source": [
    "no_training_query = \"\"\"SELECT DISTINCT pexp.value AS expression\n",
    "FROM runs r\n",
    "JOIN params pexp\n",
    "  ON r.run_uuid = pexp.run_uuid\n",
    "  AND pexp.key = 'expression'\n",
    "LEFT JOIN metrics m\n",
    "  ON r.run_uuid = m.run_uuid\n",
    "  AND m.key = 'val_loss_running_avg50'\n",
    "WHERE m.run_uuid IS NULL\n",
    "ORDER BY pexp.value;\n",
    "\"\"\""
   ]
  },
  {
   "cell_type": "code",
   "execution_count": 67,
   "metadata": {},
   "outputs": [
    {
     "name": "stderr",
     "output_type": "stream",
     "text": [
      "/var/folders/ww/zmy65s114cv2_jtlds20mdzc0000gn/T/ipykernel_26701/3702552904.py:3: FutureWarning: DataFrame.applymap has been deprecated. Use DataFrame.map instead.\n"
     ]
    }
   ],
   "source": [
    "no_training_result = execute_query(query=no_training_query, conn=conn)\n",
    "no_training_df = pd.DataFrame(no_training_result)\n",
    "no_training_df = no_training_df.applymap(decode_if_bytes)\n",
    "no_training_df.columns = ['expression']"
   ]
  },
  {
   "cell_type": "markdown",
   "metadata": {},
   "source": [
    "#### Merge results into main dataframe"
   ]
  },
  {
   "cell_type": "code",
   "execution_count": 68,
   "metadata": {},
   "outputs": [],
   "source": [
    "df[\"no_training\"] = df[\"expression\"].isin(no_training_df[\"expression\"])"
   ]
  },
  {
   "cell_type": "markdown",
   "metadata": {},
   "source": [
    "### Get monotonicity for all expressions"
   ]
  },
  {
   "cell_type": "code",
   "execution_count": 69,
   "metadata": {},
   "outputs": [],
   "source": [
    "mono_query = \"\"\"SELECT DISTINCT pexp.value AS expression,\n",
    "       m.value AS monotonicity_entropic\n",
    "FROM runs r\n",
    "JOIN params pexp\n",
    "  ON r.run_uuid = pexp.run_uuid\n",
    "  AND pexp.key = 'expression'\n",
    "JOIN metrics m\n",
    "  ON r.run_uuid = m.run_uuid\n",
    "  AND m.key = 'monotonicity_entropic'\n",
    "ORDER BY expression;\"\"\""
   ]
  },
  {
   "cell_type": "code",
   "execution_count": 70,
   "metadata": {},
   "outputs": [],
   "source": [
    "monotonicity_results = execute_query(query=mono_query, conn=conn)"
   ]
  },
  {
   "cell_type": "code",
   "execution_count": 71,
   "metadata": {},
   "outputs": [
    {
     "name": "stderr",
     "output_type": "stream",
     "text": [
      "/var/folders/ww/zmy65s114cv2_jtlds20mdzc0000gn/T/ipykernel_26701/981420326.py:2: FutureWarning: DataFrame.applymap has been deprecated. Use DataFrame.map instead.\n"
     ]
    }
   ],
   "source": [
    "mono_df = pd.DataFrame(monotonicity_results)\n",
    "mono_df = mono_df.applymap(decode_if_bytes)\n",
    "mono_df.columns = ['expression', 'monotonicity_entropic']"
   ]
  },
  {
   "cell_type": "markdown",
   "metadata": {},
   "source": [
    "### Get depth"
   ]
  },
  {
   "cell_type": "code",
   "execution_count": 72,
   "metadata": {},
   "outputs": [],
   "source": [
    "depth_query = \"\"\"SELECT DISTINCT pexp.value AS expression,\n",
    "       pdepth.value AS expression_depth\n",
    "FROM runs r\n",
    "JOIN params pexp\n",
    "  ON r.run_uuid = pexp.run_uuid\n",
    "  AND pexp.key = 'expression'\n",
    "JOIN params pdepth\n",
    "  ON r.run_uuid = pdepth.run_uuid\n",
    "  AND pdepth.key = 'expression_depth'\n",
    "ORDER BY expression;\"\"\""
   ]
  },
  {
   "cell_type": "code",
   "execution_count": 73,
   "metadata": {},
   "outputs": [
    {
     "name": "stderr",
     "output_type": "stream",
     "text": [
      "/var/folders/ww/zmy65s114cv2_jtlds20mdzc0000gn/T/ipykernel_26701/2764423100.py:3: FutureWarning: DataFrame.applymap has been deprecated. Use DataFrame.map instead.\n"
     ]
    }
   ],
   "source": [
    "depth_results = execute_query(query=depth_query, conn=conn)\n",
    "depth_df = pd.DataFrame(depth_results)\n",
    "depth_df = depth_df.applymap(decode_if_bytes)\n",
    "depth_df.columns = ['expression', 'expression_depth']"
   ]
  },
  {
   "cell_type": "code",
   "execution_count": 74,
   "metadata": {},
   "outputs": [
    {
     "data": {
      "text/plain": [
       "expression_depth\n",
       "4    1868\n",
       "3     122\n",
       "2      11\n",
       "1       3\n",
       "Name: count, dtype: int64"
      ]
     },
     "execution_count": 74,
     "metadata": {},
     "output_type": "execute_result"
    }
   ],
   "source": [
    "depth_df['expression_depth'].value_counts()"
   ]
  },
  {
   "cell_type": "markdown",
   "metadata": {},
   "source": [
    "### Merge all data"
   ]
  },
  {
   "cell_type": "code",
   "execution_count": 75,
   "metadata": {},
   "outputs": [],
   "source": [
    "final_df = df.merge(mono_df, on='expression').merge(depth_df, on='expression')\n",
    "final_df[\"first_step\"] = final_df[\"first_step\"].replace(\"does not exist\", np.nan)\n",
    "final_df[\"first_step\"] = final_df[\"first_step\"].astype(\"Int64\")"
   ]
  },
  {
   "cell_type": "code",
   "execution_count": 76,
   "metadata": {},
   "outputs": [],
   "source": [
    "final_df.to_csv('learn_quant/analysis/repeated_runs.csv', index=False)"
   ]
  },
  {
   "cell_type": "code",
   "execution_count": null,
   "metadata": {},
   "outputs": [],
   "source": [
    "# final_df.to_csv('learn_quant/analysis/expressions_shuffled_2k.csv', index=False)"
   ]
  },
  {
   "cell_type": "code",
   "execution_count": 79,
   "metadata": {},
   "outputs": [],
   "source": [
    "final_df = pd.read_csv('learn_quant/analysis/repeated_runs.csv')"
   ]
  },
  {
   "cell_type": "code",
   "execution_count": 80,
   "metadata": {},
   "outputs": [
    {
     "data": {
      "text/html": [
       "<div>\n",
       "<style scoped>\n",
       "    .dataframe tbody tr th:only-of-type {\n",
       "        vertical-align: middle;\n",
       "    }\n",
       "\n",
       "    .dataframe tbody tr th {\n",
       "        vertical-align: top;\n",
       "    }\n",
       "\n",
       "    .dataframe thead th {\n",
       "        text-align: right;\n",
       "    }\n",
       "</style>\n",
       "<table border=\"1\" class=\"dataframe\">\n",
       "  <thead>\n",
       "    <tr style=\"text-align: right;\">\n",
       "      <th></th>\n",
       "      <th>expression</th>\n",
       "      <th>first_step</th>\n",
       "      <th>no_training</th>\n",
       "      <th>monotonicity_entropic</th>\n",
       "      <th>expression_depth</th>\n",
       "    </tr>\n",
       "  </thead>\n",
       "  <tbody>\n",
       "    <tr>\n",
       "      <th>2</th>\n",
       "      <td>and(and(not(subset_eq(A, B)), greater_than(car...</td>\n",
       "      <td>11092.0</td>\n",
       "      <td>False</td>\n",
       "      <td>0.358207</td>\n",
       "      <td>4</td>\n",
       "    </tr>\n",
       "    <tr>\n",
       "      <th>5</th>\n",
       "      <td>and(and(not(subset_eq(A, B)), subset_eq(A, dif...</td>\n",
       "      <td>745.0</td>\n",
       "      <td>False</td>\n",
       "      <td>0.347243</td>\n",
       "      <td>4</td>\n",
       "    </tr>\n",
       "    <tr>\n",
       "      <th>6</th>\n",
       "      <td>and(and(not(subset_eq(A, B)), subset_eq(A, dif...</td>\n",
       "      <td>957.0</td>\n",
       "      <td>False</td>\n",
       "      <td>0.260211</td>\n",
       "      <td>4</td>\n",
       "    </tr>\n",
       "    <tr>\n",
       "      <th>7</th>\n",
       "      <td>and(and(not(subset_eq(B, A)), greater_than(car...</td>\n",
       "      <td>8520.0</td>\n",
       "      <td>False</td>\n",
       "      <td>0.328792</td>\n",
       "      <td>4</td>\n",
       "    </tr>\n",
       "    <tr>\n",
       "      <th>9</th>\n",
       "      <td>and(and(not(subset_eq(B, A)), greater_than(car...</td>\n",
       "      <td>5573.0</td>\n",
       "      <td>False</td>\n",
       "      <td>0.439034</td>\n",
       "      <td>4</td>\n",
       "    </tr>\n",
       "    <tr>\n",
       "      <th>...</th>\n",
       "      <td>...</td>\n",
       "      <td>...</td>\n",
       "      <td>...</td>\n",
       "      <td>...</td>\n",
       "      <td>...</td>\n",
       "    </tr>\n",
       "    <tr>\n",
       "      <th>1989</th>\n",
       "      <td>subset_eq(union(intersection(A, B), index(card...</td>\n",
       "      <td>710.0</td>\n",
       "      <td>False</td>\n",
       "      <td>0.000000</td>\n",
       "      <td>4</td>\n",
       "    </tr>\n",
       "    <tr>\n",
       "      <th>1990</th>\n",
       "      <td>subset_eq(union(intersection(A, B), index(card...</td>\n",
       "      <td>2458.0</td>\n",
       "      <td>False</td>\n",
       "      <td>0.000000</td>\n",
       "      <td>4</td>\n",
       "    </tr>\n",
       "    <tr>\n",
       "      <th>1991</th>\n",
       "      <td>subset_eq(union(intersection(A, B), index(card...</td>\n",
       "      <td>13331.0</td>\n",
       "      <td>False</td>\n",
       "      <td>0.000000</td>\n",
       "      <td>4</td>\n",
       "    </tr>\n",
       "    <tr>\n",
       "      <th>1993</th>\n",
       "      <td>subset_eq(union(intersection(A, B), index(card...</td>\n",
       "      <td>877.0</td>\n",
       "      <td>False</td>\n",
       "      <td>0.260211</td>\n",
       "      <td>4</td>\n",
       "    </tr>\n",
       "    <tr>\n",
       "      <th>1994</th>\n",
       "      <td>subset_eq(union(intersection(A, B), index(card...</td>\n",
       "      <td>8023.0</td>\n",
       "      <td>False</td>\n",
       "      <td>0.000000</td>\n",
       "      <td>4</td>\n",
       "    </tr>\n",
       "  </tbody>\n",
       "</table>\n",
       "<p>1222 rows × 5 columns</p>\n",
       "</div>"
      ],
      "text/plain": [
       "                                             expression  first_step  \\\n",
       "2     and(and(not(subset_eq(A, B)), greater_than(car...     11092.0   \n",
       "5     and(and(not(subset_eq(A, B)), subset_eq(A, dif...       745.0   \n",
       "6     and(and(not(subset_eq(A, B)), subset_eq(A, dif...       957.0   \n",
       "7     and(and(not(subset_eq(B, A)), greater_than(car...      8520.0   \n",
       "9     and(and(not(subset_eq(B, A)), greater_than(car...      5573.0   \n",
       "...                                                 ...         ...   \n",
       "1989  subset_eq(union(intersection(A, B), index(card...       710.0   \n",
       "1990  subset_eq(union(intersection(A, B), index(card...      2458.0   \n",
       "1991  subset_eq(union(intersection(A, B), index(card...     13331.0   \n",
       "1993  subset_eq(union(intersection(A, B), index(card...       877.0   \n",
       "1994  subset_eq(union(intersection(A, B), index(card...      8023.0   \n",
       "\n",
       "      no_training  monotonicity_entropic  expression_depth  \n",
       "2           False               0.358207                 4  \n",
       "5           False               0.347243                 4  \n",
       "6           False               0.260211                 4  \n",
       "7           False               0.328792                 4  \n",
       "9           False               0.439034                 4  \n",
       "...           ...                    ...               ...  \n",
       "1989        False               0.000000                 4  \n",
       "1990        False               0.000000                 4  \n",
       "1991        False               0.000000                 4  \n",
       "1993        False               0.260211                 4  \n",
       "1994        False               0.000000                 4  \n",
       "\n",
       "[1222 rows x 5 columns]"
      ]
     },
     "execution_count": 80,
     "metadata": {},
     "output_type": "execute_result"
    }
   ],
   "source": [
    "# Where did training occur, but the condition was not satisfied?\n",
    "trained = final_df[final_df['no_training'] == False]\n",
    "trained.loc[trained['first_step'].notnull()]"
   ]
  },
  {
   "cell_type": "code",
   "execution_count": null,
   "metadata": {},
   "outputs": [
    {
     "ename": "NameError",
     "evalue": "name 'trained' is not defined",
     "output_type": "error",
     "traceback": [
      "\u001b[0;31m---------------------------------------------------------------------------\u001b[0m",
      "\u001b[0;31mNameError\u001b[0m                                 Traceback (most recent call last)",
      "Cell \u001b[0;32mIn[3], line 4\u001b[0m\n\u001b[1;32m      1\u001b[0m \u001b[38;5;66;03m# Creating the plot\u001b[39;00m\n\u001b[1;32m      2\u001b[0m \u001b[38;5;28;01mfrom\u001b[39;00m \u001b[38;5;21;01mplotnine\u001b[39;00m \u001b[38;5;28;01mimport\u001b[39;00m element_line, stat_smooth, annotate\n\u001b[0;32m----> 4\u001b[0m plotdf \u001b[38;5;241m=\u001b[39m \u001b[43mtrained\u001b[49m\u001b[38;5;241m.\u001b[39mcopy()\n\u001b[1;32m      6\u001b[0m \u001b[38;5;66;03m# Replace \"does not exist\" (if present) with NaN in both columns\u001b[39;00m\n\u001b[1;32m      7\u001b[0m plotdf[\u001b[38;5;124m\"\u001b[39m\u001b[38;5;124mfirst_step\u001b[39m\u001b[38;5;124m\"\u001b[39m] \u001b[38;5;241m=\u001b[39m plotdf[\u001b[38;5;124m\"\u001b[39m\u001b[38;5;124mfirst_step\u001b[39m\u001b[38;5;124m\"\u001b[39m]\u001b[38;5;241m.\u001b[39mreplace(\u001b[38;5;124m\"\u001b[39m\u001b[38;5;124mdoes not exist\u001b[39m\u001b[38;5;124m\"\u001b[39m, np\u001b[38;5;241m.\u001b[39mnan)\n",
      "\u001b[0;31mNameError\u001b[0m: name 'trained' is not defined"
     ]
    }
   ],
   "source": [
    "# Creating the plot\n",
    "from plotnine import element_line, stat_smooth, element_text, annotate,element_rect, element_blank, theme_minimal, theme, ggplot, geom_point, labs\n",
    "\n",
    "plotdf = trained.copy()\n",
    "\n",
    "# Replace \"does not exist\" (if present) with NaN in both columns\n",
    "plotdf[\"first_step\"] = plotdf[\"first_step\"].replace(\"does not exist\", np.nan)\n",
    "plotdf[\"first_step\"] = plotdf[\"first_step\"].astype(float)\n",
    "plotdf[\"monotonicity_entropic\"] = plotdf[\"monotonicity_entropic\"].replace(\"does not exist\", np.nan)\n",
    "\n",
    "# Convert to numeric (this will turn valid strings like \"2648\" into 2648.0)\n",
    "plotdf[\"first_step\"] = pd.to_numeric(plotdf[\"first_step\"], errors=\"coerce\")\n",
    "plotdf[\"monotonicity_entropic\"] = pd.to_numeric(plotdf[\"monotonicity_entropic\"], errors=\"coerce\")\n",
    "\n",
    "# Drop rows where either is NaN\n",
    "plotdf.dropna(subset=[\"first_step\", \"monotonicity_entropic\"], inplace=True)\n",
    "\n",
    "plot = (\n",
    "    ggplot(plotdf, aes(y='monotonicity_entropic', x='first_step')) +\n",
    "    geom_point(alpha=0.15, color='#0073C2') +\n",
    "    theme_minimal() +\n",
    "    stat_smooth(method='lm', color='red', linetype='dashed', se=False) +  # Add line of best fit (linear model)\n",
    "    theme(\n",
    "        plot_background=element_rect(fill=\"white\", color=\"white\"),  # White background\n",
    "        panel_background=element_rect(fill=\"white\", color=\"white\"),   # White panel\n",
    "        panel_grid_major=element_line(color=\"gray\", size=0.5, linetype='dashed'),  # Dashed grid lines\n",
    "        panel_grid_minor=element_line(color=\"lightgray\", size=0.25, alpha=0.15),  # Minor grid lines\n",
    "        plot_title=element_text(ha='center', size=16, weight='bold'),  # Bold, centered title\n",
    "        axis_title=element_text(size=14, weight='bold'),  # Bold axis titles\n",
    "        axis_text=element_text(size=12),  # Adjust axis text size\n",
    "        axis_line=element_line(color=\"black\", size=0.8),  # Add strong axis lines\n",
    "        axis_ticks=element_line(color=\"black\"),  # Add clean ticks\n",
    "        legend_position=\"right\"\n",
    "    ) +\n",
    "    labs(title='Expression Monotonicity vs Training Step',\n",
    "         y='Monotonicity',\n",
    "         x='Training Step',\n",
    "         color='Legend')\n",
    "         \n",
    "    #annotate('text', x=0.2, y=0.3, label=\"linear fit\", size=10, color=\"red\")  # Line formula annotation\n",
    ")\n",
    "plot.save(\"monotonicity_vs_training_step.png\", dpi=300,)  # Save as PNG with 300 DPI\n",
    "plot"
   ]
  },
  {
   "cell_type": "code",
   "execution_count": null,
   "metadata": {},
   "outputs": [],
   "source": [
    "# We will need to round the values to bin values near to 0 or 1 (then rerun the plot)\n",
    "plotdf['monotonicity_entropic'].astype(float).value_counts().sort_values()\n",
    "plotdf[\"monotonicity_4sig\"] = plotdf[\"monotonicity_entropic\"].apply(\n",
    "    lambda x: float(f\"{x:.4g}\")\n",
    ")\n",
    "plotdf[\"monotonicity_4sig\"].value_counts().sort_values()"
   ]
  },
  {
   "cell_type": "code",
   "execution_count": 51,
   "metadata": {},
   "outputs": [
    {
     "data": {
      "text/plain": [
       "{'Spearman Correlation': -0.10901224403713969,\n",
       " 'Spearman P-Value': 0.0001310405769885041,\n",
       " 'Pearson Correlation': -0.16724347459584146,\n",
       " 'Pearson P-Value': 3.82757258532382e-09}"
      ]
     },
     "execution_count": 51,
     "metadata": {},
     "output_type": "execute_result"
    }
   ],
   "source": [
    "from scipy.stats import spearmanr, pearsonr\n",
    "\n",
    "# Perform Spearman and Pearson correlation tests\n",
    "spearman_corr, spearman_pval = spearmanr(plotdf[\"monotonicity_entropic\"], plotdf[\"first_step\"])\n",
    "pearson_corr, pearson_pval = pearsonr(plotdf[\"monotonicity_entropic\"], plotdf[\"first_step\"])\n",
    "\n",
    "# Display the results\n",
    "{\n",
    "    \"Spearman Correlation\": spearman_corr,\n",
    "    \"Spearman P-Value\": spearman_pval,\n",
    "    \"Pearson Correlation\": pearson_corr,\n",
    "    \"Pearson P-Value\": pearson_pval\n",
    "}"
   ]
  },
  {
   "cell_type": "markdown",
   "metadata": {},
   "source": [
    "#### Get distribution plot of monotonicity values"
   ]
  },
  {
   "cell_type": "code",
   "execution_count": 75,
   "metadata": {},
   "outputs": [
    {
     "name": "stderr",
     "output_type": "stream",
     "text": [
      "/Users/radmajik/anaconda3/envs/altk/lib/python3.12/site-packages/plotnine/ggplot.py:587: PlotnineWarning: Saving 6.4 x 4.8 in image.\n",
      "/Users/radmajik/anaconda3/envs/altk/lib/python3.12/site-packages/plotnine/ggplot.py:588: PlotnineWarning: Filename: monotonicity_distribution_density.png\n"
     ]
    },
    {
     "data": {
      "image/png": "[encoded data removed]",
      "text/plain": [
       "<Figure size 640x480 with 1 Axes>"
      ]
     },
     "metadata": {
      "image/png": {
       "height": 480,
       "width": 640
      }
     },
     "output_type": "display_data"
    },
    {
     "data": {
      "text/plain": [
       "<Figure Size: (640 x 480)>"
      ]
     },
     "execution_count": 75,
     "metadata": {},
     "output_type": "execute_result"
    }
   ],
   "source": [
    "from plotnine import (\n",
    "    ggplot, aes, geom_density, theme, labs, theme_minimal, element_blank,\n",
    ")\n",
    "\n",
    "# Subset to monotonicity = 0 or 1 only\n",
    "plotdf_01 = plotdf[plotdf[\"monotonicity_4sig\"].isin([0, 1])].copy()\n",
    "\n",
    "# Convert monotonicity to a string/factor for coloring\n",
    "plotdf_01[\"monotonicity_4sig\"] = plotdf_01[\"monotonicity_4sig\"].astype(str)\n",
    "\n",
    "plot = (\n",
    "    ggplot(plotdf_01, aes(x=\"first_step\", \n",
    "                          color=\"monotonicity_4sig\", \n",
    "                          fill=\"monotonicity_4sig\"))\n",
    "    + geom_density(alpha=0.4)  # semi-transparent so they overlap visibly\n",
    "    + theme_minimal()\n",
    "    + theme(\n",
    "        panel_border=element_blank(),\n",
    "        panel_background=element_rect(fill=\"white\"),\n",
    "        plot_background=element_rect(fill=\"white\")\n",
    "    )\n",
    "    + labs(\n",
    "        title=\"First Training Steps Achieving Avg. Validation Loss < .05\",\n",
    "        x=\"Step\",\n",
    "        y=\"Density\",\n",
    "        color=\"Monotonicity\",\n",
    "        fill=\"Monotonicity\"\n",
    "    )\n",
    "    # Optional custom color/fill if you want specific colors:\n",
    "    # + scale_color_manual(values=[\"#0073C2\", \"red\"])\n",
    "    # + scale_fill_manual(values=[\"#0073C2\", \"red\"])\n",
    ")\n",
    "plot.save(\"monotonicity_distribution_density.png\", dpi=300, transparent=False)\n",
    "plot\n"
   ]
  },
  {
   "cell_type": "code",
   "execution_count": 64,
   "metadata": {},
   "outputs": [
    {
     "data": {
      "text/plain": [
       "monotonicity_4sig\n",
       "0.0    443\n",
       "1.0     48\n",
       "Name: count, dtype: int64"
      ]
     },
     "execution_count": 64,
     "metadata": {},
     "output_type": "execute_result"
    }
   ],
   "source": [
    "# Observe counts of binned monotonicity values\n",
    "plotdf[plotdf[\"monotonicity_4sig\"].isin([0, 1])]['monotonicity_4sig'].value_counts()"
   ]
  },
  {
   "cell_type": "code",
   "execution_count": null,
   "metadata": {},
   "outputs": [],
   "source": []
  }
 ],
 "metadata": {
  "kernelspec": {
   "display_name": "altk",
   "language": "python",
   "name": "python3"
  },
  "language_info": {
   "codemirror_mode": {
    "name": "ipython",
    "version": 3
   },
   "file_extension": ".py",
   "mimetype": "text/x-python",
   "name": "python",
   "nbconvert_exporter": "python",
   "pygments_lexer": "ipython3",
   "version": "3.12.1"
  }
 },
 "nbformat": 4,
 "nbformat_minor": 2
}
