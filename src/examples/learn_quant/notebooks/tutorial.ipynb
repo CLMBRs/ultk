{
 "cells": [
  {
   "cell_type": "code",
   "execution_count": 1,
   "metadata": {},
   "outputs": [],
   "source": [
    "%%capture\n",
    "\n",
    "%cd .."
   ]
  },
  {
   "cell_type": "markdown",
   "metadata": {},
   "source": [
    "## Introduction\n",
    "\n",
    "This notebook shows you how to utilize ULTK for generating a large number of quantifiers and measuring their monotonicity.\n",
    "\n",
    " First, let's familiarize ourselves with the classes used in this example, which are subclasses from classes in the ULTK package."
   ]
  },
  {
   "cell_type": "markdown",
   "metadata": {},
   "source": [
    "### QuantifierModel\n",
    "\n",
    "In this example, we will create a large number of quantifiers that are represented by the class `QuantifierModel`. As stated in `meaning.py`, a `QuantifierModel` is a triple ** <M, A, B> **, where M is analagous to all possible quantifier referents for a given situation. A and B are different sets of quantifier referents that correspond to the items of comparison in a quantificational construct.\n",
    "\n",
    "A `QuantifierModel` is initialized by defining a sequence of symbols that encode the set composition of each of `M`, `A`, and `B`. \n",
    "\n",
    "The definitions for each symbol are as follows:\n",
    "\n",
    "`0 => in A`\n",
    "\n",
    "`1 => in B`\n",
    "\n",
    "`2 => in (A and B)`\n",
    "\n",
    "`3 => in M - (A | B)`\n",
    "\n",
    "`4 => not in (M | A | B)`\n"
   ]
  },
  {
   "cell_type": "code",
   "execution_count": 8,
   "metadata": {},
   "outputs": [
    {
     "name": "stdout",
     "output_type": "stream",
     "text": [
      "{'name': '101234', 'A': frozenset({1, 3}), 'B': frozenset({0, 2, 3}), 'M': frozenset({0, 1, 2, 3, 4})}\n"
     ]
    }
   ],
   "source": [
    "from learn_quant.quantifier import QuantifierModel\n",
    "\n",
    "qm = QuantifierModel(\"102134\")\n",
    "print(str(qm))"
   ]
  },
  {
   "cell_type": "markdown",
   "metadata": {},
   "source": [
    "In the example above, we initialized a `QuantifierModel` via a combination of symbols 0 through 4. The sets `M`, `A`, and `B` were created from this string via the `QuantifierModel`'s `post_init` method. In the sequence `101234`, the \"objects\" at the specified indices pertain to the sets as follows:\n",
    "\n",
    "0. M, A\n",
    "1. M, B\n",
    "2. M, A, B\n",
    "3. M\n",
    "4. X (neither M, A, nor B)"
   ]
  },
  {
   "cell_type": "markdown",
   "metadata": {},
   "source": [
    "Notice that all sets are typed as `frozenset`s, as this allows for hashing and checking of `QuantifierModel`s in `Meaning` objects that is required for subsequent routines. "
   ]
  },
  {
   "cell_type": "markdown",
   "metadata": {},
   "source": [
    "### Importing a `QuantifierGrammar`\n",
    "\n",
    "A QuantifierGrammar is a regular Grammar object, but allows for primitives representing integers to be added after a basic grammar has been loaded. This allows for integer primitives to be created on the fly during experiments of certain lengths (you usually would want to allow for primitives up until the length of the size of M, or all referents that are \"in play\"). "
   ]
  },
  {
   "cell_type": "code",
   "execution_count": 9,
   "metadata": {},
   "outputs": [],
   "source": [
    "from learn_quant.grammar import quantifiers_grammar"
   ]
  },
  {
   "cell_type": "markdown",
   "metadata": {},
   "source": [
    "You can iterate through the grammar to see what rules it contains:"
   ]
  },
  {
   "cell_type": "code",
   "execution_count": 10,
   "metadata": {},
   "outputs": [
    {
     "name": "stdout",
     "output_type": "stream",
     "text": [
      "and : bool -> and(bool, bool)\n",
      "or : bool -> or(bool, bool)\n",
      "not : bool -> not(bool)\n",
      "union : frozenset -> union(frozenset, frozenset)\n",
      "intersection : frozenset -> intersection(frozenset, frozenset)\n",
      "difference : frozenset -> difference(frozenset, frozenset)\n",
      "index : frozenset -> index(int, frozenset)\n",
      "cardinality : int -> cardinality(frozenset)\n",
      "subset_eq : bool -> subset_eq(frozenset, frozenset)\n",
      "equals : bool -> equals(int, int)\n",
      "greater_than : bool -> greater_than(int, int)\n",
      "A : frozenset -> A\n",
      "B : frozenset -> B\n"
     ]
    }
   ],
   "source": [
    "for rule in quantifiers_grammar:\n",
    "    print(rule[0], \":\", rule[1])"
   ]
  },
  {
   "cell_type": "markdown",
   "metadata": {},
   "source": [
    "To add primitives for integer indices, use the `add_indices_as_primitives` method on the `QuantifierGrammar` object by specifying either specific indices in a list, or an integer upper bound up until which primitive rules should be added:"
   ]
  },
  {
   "cell_type": "code",
   "execution_count": 11,
   "metadata": {},
   "outputs": [
    {
     "name": "stdout",
     "output_type": "stream",
     "text": [
      "and : bool -> and(bool, bool)\n",
      "or : bool -> or(bool, bool)\n",
      "not : bool -> not(bool)\n",
      "union : frozenset -> union(frozenset, frozenset)\n",
      "intersection : frozenset -> intersection(frozenset, frozenset)\n",
      "difference : frozenset -> difference(frozenset, frozenset)\n",
      "index : frozenset -> index(int, frozenset)\n",
      "cardinality : int -> cardinality(frozenset)\n",
      "subset_eq : bool -> subset_eq(frozenset, frozenset)\n",
      "equals : bool -> equals(int, int)\n",
      "greater_than : bool -> greater_than(int, int)\n",
      "A : frozenset -> A\n",
      "B : frozenset -> B\n",
      "0 : int -> 0\n",
      "1 : int -> 1\n",
      "2 : int -> 2\n",
      "3 : int -> 3\n"
     ]
    }
   ],
   "source": [
    "from copy import deepcopy\n",
    "new_grammar = deepcopy(quantifiers_grammar)\n",
    "new_grammar.add_indices_as_primitives([0,1,2,3], 6.0)\n",
    "for rule in new_grammar:\n",
    "    print(rule[0], \":\", rule[1])"
   ]
  },
  {
   "cell_type": "markdown",
   "metadata": {},
   "source": [
    "You can also pass as the first argument to `add_indices_as_primitives` an upper bound integer for inclusive indices to generate as primitives in the grammar. The second argument defines assigns a `weight` to give the primitives that is used during an enumeration procedure of `Expressions` that can be generated by the defined `QuantifierGrammar`."
   ]
  },
  {
   "cell_type": "code",
   "execution_count": 12,
   "metadata": {},
   "outputs": [
    {
     "name": "stdout",
     "output_type": "stream",
     "text": [
      "and : bool -> and(bool, bool)\n",
      "or : bool -> or(bool, bool)\n",
      "not : bool -> not(bool)\n",
      "union : frozenset -> union(frozenset, frozenset)\n",
      "intersection : frozenset -> intersection(frozenset, frozenset)\n",
      "difference : frozenset -> difference(frozenset, frozenset)\n",
      "index : frozenset -> index(int, frozenset)\n",
      "cardinality : int -> cardinality(frozenset)\n",
      "subset_eq : bool -> subset_eq(frozenset, frozenset)\n",
      "equals : bool -> equals(int, int)\n",
      "greater_than : bool -> greater_than(int, int)\n",
      "A : frozenset -> A\n",
      "B : frozenset -> B\n",
      "0 : int -> 0\n",
      "1 : int -> 1\n",
      "2 : int -> 2\n",
      "3 : int -> 3\n"
     ]
    }
   ],
   "source": [
    "new_grammar = deepcopy(quantifiers_grammar)\n",
    "new_grammar.add_indices_as_primitives(4, 6.0)\n",
    "for rule in new_grammar:\n",
    "    print(rule[0], \":\", rule[1])"
   ]
  },
  {
   "cell_type": "code",
   "execution_count": 13,
   "metadata": {},
   "outputs": [
    {
     "name": "stdout",
     "output_type": "stream",
     "text": [
      "and :\t\t 1.0\n",
      "or :\t\t 1.0\n",
      "not :\t\t 1.0\n",
      "union :\t\t 1.0\n",
      "intersection :\t\t 1.0\n",
      "difference :\t\t 1.0\n",
      "index :\t\t 1.0\n",
      "cardinality :\t\t 1.0\n",
      "subset_eq :\t\t 1.0\n",
      "equals :\t\t 1.0\n",
      "greater_than :\t\t 1.0\n",
      "A :\t\t 10.0\n",
      "B :\t\t 10.0\n",
      "0 :\t\t 6.0\n",
      "1 :\t\t 6.0\n",
      "2 :\t\t 6.0\n",
      "3 :\t\t 6.0\n"
     ]
    }
   ],
   "source": [
    "for rule in new_grammar:\n",
    "    print(rule[1].name, \":\\t\\t\", rule[1].weight)"
   ]
  },
  {
   "cell_type": "markdown",
   "metadata": {},
   "source": [
    "### Define a universe of referents.\n",
    "\n",
    "In this example, the function `create_universe` creates an exhaustive set of `QuantifierModel`s that could be created with different values for A, B, and M satisfying the constraints of a given defined size for `M` and `X`. This function wraps the set of `QuantifierModel`'s in a `QuantifierUniverse` object, which subclasses `Universe` and allows for the union between `QuantifierUniverse`s to create larger `QuantifierUniverse`s and records the maximal `M` and `X` size for all referents in the `QuantifierUniverse`."
   ]
  },
  {
   "cell_type": "code",
   "execution_count": 14,
   "metadata": {},
   "outputs": [],
   "source": [
    "from learn_quant.util import create_universe"
   ]
  },
  {
   "cell_type": "code",
   "execution_count": 16,
   "metadata": {},
   "outputs": [
    {
     "name": "stdout",
     "output_type": "stream",
     "text": [
      "The size of the universe is 256\n"
     ]
    }
   ],
   "source": [
    "quantifiers_universe = create_universe(m_size=3, x_size=4)\n",
    "print(\"The size of the universe is {}\".format(len(quantifiers_universe)))"
   ]
  },
  {
   "cell_type": "markdown",
   "metadata": {},
   "source": [
    "Access the referents by refering to the `referents` property of the `QuantifierUniverse` object"
   ]
  },
  {
   "cell_type": "code",
   "execution_count": 20,
   "metadata": {},
   "outputs": [
    {
     "data": {
      "text/plain": [
       "(QuantifierModel(name='4212', M=frozenset({1, 2, 3}), A=frozenset({1, 3}), B=frozenset({1, 2, 3})),\n",
       " QuantifierModel(name='2240', M=frozenset({0, 1, 3}), A=frozenset({0, 1, 3}), B=frozenset({0, 1})),\n",
       " QuantifierModel(name='2430', M=frozenset({0, 2, 3}), A=frozenset({0, 3}), B=frozenset({0})),\n",
       " QuantifierModel(name='0041', M=frozenset({0, 1, 3}), A=frozenset({0, 1}), B=frozenset({3})),\n",
       " QuantifierModel(name='4013', M=frozenset({1, 2, 3}), A=frozenset({1}), B=frozenset({2})),\n",
       " QuantifierModel(name='4101', M=frozenset({1, 2, 3}), A=frozenset({2}), B=frozenset({1, 3})),\n",
       " QuantifierModel(name='1430', M=frozenset({0, 2, 3}), A=frozenset({3}), B=frozenset({0})),\n",
       " QuantifierModel(name='1431', M=frozenset({0, 2, 3}), A=frozenset(), B=frozenset({0, 3})),\n",
       " QuantifierModel(name='4311', M=frozenset({1, 2, 3}), A=frozenset(), B=frozenset({2, 3})),\n",
       " QuantifierModel(name='3340', M=frozenset({0, 1, 3}), A=frozenset({3}), B=frozenset()))"
      ]
     },
     "execution_count": 20,
     "metadata": {},
     "output_type": "execute_result"
    }
   ],
   "source": [
    "quantifiers_universe.referents[0:10]"
   ]
  },
  {
   "cell_type": "markdown",
   "metadata": {},
   "source": [
    "You can access sizes of `X` and `M` in the QuantifierUniverse object:"
   ]
  },
  {
   "cell_type": "code",
   "execution_count": 21,
   "metadata": {},
   "outputs": [
    {
     "name": "stdout",
     "output_type": "stream",
     "text": [
      "4\n",
      "3\n"
     ]
    }
   ],
   "source": [
    "print(quantifiers_universe.x_size)\n",
    "print(quantifiers_universe.m_size)"
   ]
  },
  {
   "cell_type": "markdown",
   "metadata": {},
   "source": [
    "We created a universe with the number of indices in generated `QuantifierModel`s having 4 indices total, with up to 3 of those indices being *considered for pertinence in A or B* (in M) during the generative process. Therefore, in this example, `['1', '2', '0', '0']` would not be valid, since `M_SIZE` is only 3 and not 4. On the other hand, `['4', '2', '0', '0']` is OK, since the first index is in `X` but not `M`.\n",
    "\n",
    "Let's enumerate expressions that could be created with the Language of Thought (LoT) described in the `QuantifierGrammar` we have previously defined.\n",
    "\n",
    "We'll enumerate expressions up to a depth of 4. Higher depth values allow for more complex expressions that depend on a greater number of rules."
   ]
  },
  {
   "cell_type": "code",
   "execution_count": 22,
   "metadata": {},
   "outputs": [],
   "source": [
    "from learn_quant.scripts.generate_expressions import enumerate_quantifiers\n",
    "expressions_by_meaning = enumerate_quantifiers(4, quantifiers_universe, new_grammar)"
   ]
  },
  {
   "cell_type": "code",
   "execution_count": 25,
   "metadata": {},
   "outputs": [
    {
     "name": "stdout",
     "output_type": "stream",
     "text": [
      "The number of expressions generated by the enumeration procedure is 3379\n"
     ]
    }
   ],
   "source": [
    "print(\"The number of expressions generated by the enumeration procedure is\", len(expressions_by_meaning.values()))"
   ]
  },
  {
   "cell_type": "markdown",
   "metadata": {},
   "source": [
    "Let's save the quantifiers generated in this enumeration process. You can pass a boolean to a keyword argument `pickle` to optionally save a `.pkl` in addition to a `.yml` file of the expressions."
   ]
  },
  {
   "cell_type": "code",
   "execution_count": null,
   "metadata": {},
   "outputs": [],
   "source": [
    "from learn_quant.util import save_quantifiers\n",
    "\n",
    "save_quantifiers(expressions_by_meaning, out_path=\"learn_quant/outputs/generated_expressions.yml\")"
   ]
  },
  {
   "cell_type": "markdown",
   "metadata": {},
   "source": [
    "We can load-in the expressions we just saved in the YAML file we produced in the code block above (provided we also provide the load function a relevant universe of analysis):"
   ]
  },
  {
   "cell_type": "code",
   "execution_count": 29,
   "metadata": {},
   "outputs": [],
   "source": [
    "from ultk.util.io import read_grammatical_expressions"
   ]
  },
  {
   "cell_type": "markdown",
   "metadata": {},
   "source": [
    "`read_grammatical_expressions` loads `GrammaticalExpression` objects in an iterable as the first returned object. This contains the `Expression` and its resolved `Meaning`. The second returned object returns a dictionary with the `Meaning` of each `Expression` as a key. "
   ]
  },
  {
   "cell_type": "code",
   "execution_count": 31,
   "metadata": {},
   "outputs": [],
   "source": [
    "new_grammar = deepcopy(quantifiers_grammar)\n",
    "new_grammar.add_indices_as_primitives(4, 6.0)\n",
    "\n",
    "expressions, expressions_by_meaning = read_grammatical_expressions(\"learn_quant/outputs/generated_expressions.yml\", new_grammar)"
   ]
  },
  {
   "cell_type": "markdown",
   "metadata": {},
   "source": [
    "We get a object that pairs grammatical expressions with their respective `Meaning` objects, which are lists of licensed `QuantifierModels` (<M, A, B>) for that particular expression, given the universe in scope."
   ]
  },
  {
   "cell_type": "code",
   "execution_count": 37,
   "metadata": {},
   "outputs": [
    {
     "name": "stdout",
     "output_type": "stream",
     "text": [
      "3379\n"
     ]
    }
   ],
   "source": [
    "print(len(expressions))"
   ]
  },
  {
   "cell_type": "markdown",
   "metadata": {},
   "source": [
    "Each expression can be represented as a string:"
   ]
  },
  {
   "cell_type": "code",
   "execution_count": 34,
   "metadata": {},
   "outputs": [
    {
     "data": {
      "text/plain": [
       "'subset_eq(A, A)'"
      ]
     },
     "execution_count": 34,
     "metadata": {},
     "output_type": "execute_result"
    }
   ],
   "source": [
    "str(expressions[0])"
   ]
  },
  {
   "cell_type": "markdown",
   "metadata": {},
   "source": [
    "Every expression object contains a `Meaning` that contains a list of referents that the expression verifies. "
   ]
  },
  {
   "cell_type": "code",
   "execution_count": 39,
   "metadata": {},
   "outputs": [
    {
     "data": {
      "text/plain": [
       "Meaning(mapping=FrozenDict({QuantifierModel(name='0004', M=frozenset({0, 1, 2}), A=frozenset({0, 1, 2}), B=frozenset()): True, QuantifierModel(name='0014', M=frozenset({0, 1, 2}), A=frozenset({0, 1}), B=frozenset({2})): True, QuantifierModel(name='0024', M=frozenset({0, 1, 2}), A=frozenset({0, 1, 2}), B=frozenset({2})): True, QuantifierModel(name='0034', M=frozenset({0, 1, 2}), A=frozenset({0, 1}), B=frozenset()): True, QuantifierModel(name='0040', M=frozenset({0, 1, 3}), A=frozenset({0, 1, 3}), B=frozenset()): True, QuantifierModel(name='0041', M=frozenset({0, 1, 3}), A=frozenset({0, 1}), B=frozenset({3})): True, QuantifierModel(name='0042', M=frozenset({0, 1, 3}), A=frozenset({0, 1, 3}), B=frozenset({3})): True, QuantifierModel(name='0043', M=frozenset({0, 1, 3}), A=frozenset({0, 1}), B=frozenset()): True, QuantifierModel(name='0104', M=frozenset({0, 1, 2}), A=frozenset({0, 2}), B=frozenset({1})): True, QuantifierModel(name='0114', M=frozenset({0, 1, 2}), A=frozenset({0}), B=frozenset({1, 2})): True, QuantifierModel(name='0124', M=frozenset({0, 1, 2}), A=frozenset({0, 2}), B=frozenset({1, 2})): True, QuantifierModel(name='0134', M=frozenset({0, 1, 2}), A=frozenset({0}), B=frozenset({1})): True, QuantifierModel(name='0140', M=frozenset({0, 1, 3}), A=frozenset({0, 3}), B=frozenset({1})): True, QuantifierModel(name='0141', M=frozenset({0, 1, 3}), A=frozenset({0}), B=frozenset({1, 3})): True, QuantifierModel(name='0142', M=frozenset({0, 1, 3}), A=frozenset({0, 3}), B=frozenset({1, 3})): True, QuantifierModel(name='0143', M=frozenset({0, 1, 3}), A=frozenset({0}), B=frozenset({1})): True, QuantifierModel(name='0204', M=frozenset({0, 1, 2}), A=frozenset({0, 1, 2}), B=frozenset({1})): True, QuantifierModel(name='0214', M=frozenset({0, 1, 2}), A=frozenset({0, 1}), B=frozenset({1, 2})): True, QuantifierModel(name='0224', M=frozenset({0, 1, 2}), A=frozenset({0, 1, 2}), B=frozenset({1, 2})): True, QuantifierModel(name='0234', M=frozenset({0, 1, 2}), A=frozenset({0, 1}), B=frozenset({1})): True, QuantifierModel(name='0240', M=frozenset({0, 1, 3}), A=frozenset({0, 1, 3}), B=frozenset({1})): True, QuantifierModel(name='0241', M=frozenset({0, 1, 3}), A=frozenset({0, 1}), B=frozenset({1, 3})): True, QuantifierModel(name='0242', M=frozenset({0, 1, 3}), A=frozenset({0, 1, 3}), B=frozenset({1, 3})): True, QuantifierModel(name='0243', M=frozenset({0, 1, 3}), A=frozenset({0, 1}), B=frozenset({1})): True, QuantifierModel(name='0304', M=frozenset({0, 1, 2}), A=frozenset({0, 2}), B=frozenset()): True, QuantifierModel(name='0314', M=frozenset({0, 1, 2}), A=frozenset({0}), B=frozenset({2})): True, QuantifierModel(name='0324', M=frozenset({0, 1, 2}), A=frozenset({0, 2}), B=frozenset({2})): True, QuantifierModel(name='0334', M=frozenset({0, 1, 2}), A=frozenset({0}), B=frozenset()): True, QuantifierModel(name='0340', M=frozenset({0, 1, 3}), A=frozenset({0, 3}), B=frozenset()): True, QuantifierModel(name='0341', M=frozenset({0, 1, 3}), A=frozenset({0}), B=frozenset({3})): True, QuantifierModel(name='0342', M=frozenset({0, 1, 3}), A=frozenset({0, 3}), B=frozenset({3})): True, QuantifierModel(name='0343', M=frozenset({0, 1, 3}), A=frozenset({0}), B=frozenset()): True, QuantifierModel(name='0400', M=frozenset({0, 2, 3}), A=frozenset({0, 2, 3}), B=frozenset()): True, QuantifierModel(name='0401', M=frozenset({0, 2, 3}), A=frozenset({0, 2}), B=frozenset({3})): True, QuantifierModel(name='0402', M=frozenset({0, 2, 3}), A=frozenset({0, 2, 3}), B=frozenset({3})): True, QuantifierModel(name='0403', M=frozenset({0, 2, 3}), A=frozenset({0, 2}), B=frozenset()): True, QuantifierModel(name='0410', M=frozenset({0, 2, 3}), A=frozenset({0, 3}), B=frozenset({2})): True, QuantifierModel(name='0411', M=frozenset({0, 2, 3}), A=frozenset({0}), B=frozenset({2, 3})): True, QuantifierModel(name='0412', M=frozenset({0, 2, 3}), A=frozenset({0, 3}), B=frozenset({2, 3})): True, QuantifierModel(name='0413', M=frozenset({0, 2, 3}), A=frozenset({0}), B=frozenset({2})): True, QuantifierModel(name='0420', M=frozenset({0, 2, 3}), A=frozenset({0, 2, 3}), B=frozenset({2})): True, QuantifierModel(name='0421', M=frozenset({0, 2, 3}), A=frozenset({0, 2}), B=frozenset({2, 3})): True, QuantifierModel(name='0422', M=frozenset({0, 2, 3}), A=frozenset({0, 2, 3}), B=frozenset({2, 3})): True, QuantifierModel(name='0423', M=frozenset({0, 2, 3}), A=frozenset({0, 2}), B=frozenset({2})): True, QuantifierModel(name='0430', M=frozenset({0, 2, 3}), A=frozenset({0, 3}), B=frozenset()): True, QuantifierModel(name='0431', M=frozenset({0, 2, 3}), A=frozenset({0}), B=frozenset({3})): True, QuantifierModel(name='0432', M=frozenset({0, 2, 3}), A=frozenset({0, 3}), B=frozenset({3})): True, QuantifierModel(name='0433', M=frozenset({0, 2, 3}), A=frozenset({0}), B=frozenset()): True, QuantifierModel(name='1004', M=frozenset({0, 1, 2}), A=frozenset({1, 2}), B=frozenset({0})): True, QuantifierModel(name='1014', M=frozenset({0, 1, 2}), A=frozenset({1}), B=frozenset({0, 2})): True, QuantifierModel(name='1024', M=frozenset({0, 1, 2}), A=frozenset({1, 2}), B=frozenset({0, 2})): True, QuantifierModel(name='1034', M=frozenset({0, 1, 2}), A=frozenset({1}), B=frozenset({0})): True, QuantifierModel(name='1040', M=frozenset({0, 1, 3}), A=frozenset({1, 3}), B=frozenset({0})): True, QuantifierModel(name='1041', M=frozenset({0, 1, 3}), A=frozenset({1}), B=frozenset({0, 3})): True, QuantifierModel(name='1042', M=frozenset({0, 1, 3}), A=frozenset({1, 3}), B=frozenset({0, 3})): True, QuantifierModel(name='1043', M=frozenset({0, 1, 3}), A=frozenset({1}), B=frozenset({0})): True, QuantifierModel(name='1104', M=frozenset({0, 1, 2}), A=frozenset({2}), B=frozenset({0, 1})): True, QuantifierModel(name='1114', M=frozenset({0, 1, 2}), A=frozenset(), B=frozenset({0, 1, 2})): True, QuantifierModel(name='1124', M=frozenset({0, 1, 2}), A=frozenset({2}), B=frozenset({0, 1, 2})): True, QuantifierModel(name='1134', M=frozenset({0, 1, 2}), A=frozenset(), B=frozenset({0, 1})): True, QuantifierModel(name='1140', M=frozenset({0, 1, 3}), A=frozenset({3}), B=frozenset({0, 1})): True, QuantifierModel(name='1141', M=frozenset({0, 1, 3}), A=frozenset(), B=frozenset({0, 1, 3})): True, QuantifierModel(name='1142', M=frozenset({0, 1, 3}), A=frozenset({3}), B=frozenset({0, 1, 3})): True, QuantifierModel(name='1143', M=frozenset({0, 1, 3}), A=frozenset(), B=frozenset({0, 1})): True, QuantifierModel(name='1204', M=frozenset({0, 1, 2}), A=frozenset({1, 2}), B=frozenset({0, 1})): True, QuantifierModel(name='1214', M=frozenset({0, 1, 2}), A=frozenset({1}), B=frozenset({0, 1, 2})): True, QuantifierModel(name='1224', M=frozenset({0, 1, 2}), A=frozenset({1, 2}), B=frozenset({0, 1, 2})): True, QuantifierModel(name='1234', M=frozenset({0, 1, 2}), A=frozenset({1}), B=frozenset({0, 1})): True, QuantifierModel(name='1240', M=frozenset({0, 1, 3}), A=frozenset({1, 3}), B=frozenset({0, 1})): True, QuantifierModel(name='1241', M=frozenset({0, 1, 3}), A=frozenset({1}), B=frozenset({0, 1, 3})): True, QuantifierModel(name='1242', M=frozenset({0, 1, 3}), A=frozenset({1, 3}), B=frozenset({0, 1, 3})): True, QuantifierModel(name='1243', M=frozenset({0, 1, 3}), A=frozenset({1}), B=frozenset({0, 1})): True, QuantifierModel(name='1304', M=frozenset({0, 1, 2}), A=frozenset({2}), B=frozenset({0})): True, QuantifierModel(name='1314', M=frozenset({0, 1, 2}), A=frozenset(), B=frozenset({0, 2})): True, QuantifierModel(name='1324', M=frozenset({0, 1, 2}), A=frozenset({2}), B=frozenset({0, 2})): True, QuantifierModel(name='1334', M=frozenset({0, 1, 2}), A=frozenset(), B=frozenset({0})): True, QuantifierModel(name='1340', M=frozenset({0, 1, 3}), A=frozenset({3}), B=frozenset({0})): True, QuantifierModel(name='1341', M=frozenset({0, 1, 3}), A=frozenset(), B=frozenset({0, 3})): True, QuantifierModel(name='1342', M=frozenset({0, 1, 3}), A=frozenset({3}), B=frozenset({0, 3})): True, QuantifierModel(name='1343', M=frozenset({0, 1, 3}), A=frozenset(), B=frozenset({0})): True, QuantifierModel(name='1400', M=frozenset({0, 2, 3}), A=frozenset({2, 3}), B=frozenset({0})): True, QuantifierModel(name='1401', M=frozenset({0, 2, 3}), A=frozenset({2}), B=frozenset({0, 3})): True, QuantifierModel(name='1402', M=frozenset({0, 2, 3}), A=frozenset({2, 3}), B=frozenset({0, 3})): True, QuantifierModel(name='1403', M=frozenset({0, 2, 3}), A=frozenset({2}), B=frozenset({0})): True, QuantifierModel(name='1410', M=frozenset({0, 2, 3}), A=frozenset({3}), B=frozenset({0, 2})): True, QuantifierModel(name='1411', M=frozenset({0, 2, 3}), A=frozenset(), B=frozenset({0, 2, 3})): True, QuantifierModel(name='1412', M=frozenset({0, 2, 3}), A=frozenset({3}), B=frozenset({0, 2, 3})): True, QuantifierModel(name='1413', M=frozenset({0, 2, 3}), A=frozenset(), B=frozenset({0, 2})): True, QuantifierModel(name='1420', M=frozenset({0, 2, 3}), A=frozenset({2, 3}), B=frozenset({0, 2})): True, QuantifierModel(name='1421', M=frozenset({0, 2, 3}), A=frozenset({2}), B=frozenset({0, 2, 3})): True, QuantifierModel(name='1422', M=frozenset({0, 2, 3}), A=frozenset({2, 3}), B=frozenset({0, 2, 3})): True, QuantifierModel(name='1423', M=frozenset({0, 2, 3}), A=frozenset({2}), B=frozenset({0, 2})): True, QuantifierModel(name='1430', M=frozenset({0, 2, 3}), A=frozenset({3}), B=frozenset({0})): True, QuantifierModel(name='1431', M=frozenset({0, 2, 3}), A=frozenset(), B=frozenset({0, 3})): True, QuantifierModel(name='1432', M=frozenset({0, 2, 3}), A=frozenset({3}), B=frozenset({0, 3})): True, QuantifierModel(name='1433', M=frozenset({0, 2, 3}), A=frozenset(), B=frozenset({0})): True, QuantifierModel(name='2004', M=frozenset({0, 1, 2}), A=frozenset({0, 1, 2}), B=frozenset({0})): True, QuantifierModel(name='2014', M=frozenset({0, 1, 2}), A=frozenset({0, 1}), B=frozenset({0, 2})): True, QuantifierModel(name='2024', M=frozenset({0, 1, 2}), A=frozenset({0, 1, 2}), B=frozenset({0, 2})): True, QuantifierModel(name='2034', M=frozenset({0, 1, 2}), A=frozenset({0, 1}), B=frozenset({0})): True, QuantifierModel(name='2040', M=frozenset({0, 1, 3}), A=frozenset({0, 1, 3}), B=frozenset({0})): True, QuantifierModel(name='2041', M=frozenset({0, 1, 3}), A=frozenset({0, 1}), B=frozenset({0, 3})): True, QuantifierModel(name='2042', M=frozenset({0, 1, 3}), A=frozenset({0, 1, 3}), B=frozenset({0, 3})): True, QuantifierModel(name='2043', M=frozenset({0, 1, 3}), A=frozenset({0, 1}), B=frozenset({0})): True, QuantifierModel(name='2104', M=frozenset({0, 1, 2}), A=frozenset({0, 2}), B=frozenset({0, 1})): True, QuantifierModel(name='2114', M=frozenset({0, 1, 2}), A=frozenset({0}), B=frozenset({0, 1, 2})): True, QuantifierModel(name='2124', M=frozenset({0, 1, 2}), A=frozenset({0, 2}), B=frozenset({0, 1, 2})): True, QuantifierModel(name='2134', M=frozenset({0, 1, 2}), A=frozenset({0}), B=frozenset({0, 1})): True, QuantifierModel(name='2140', M=frozenset({0, 1, 3}), A=frozenset({0, 3}), B=frozenset({0, 1})): True, QuantifierModel(name='2141', M=frozenset({0, 1, 3}), A=frozenset({0}), B=frozenset({0, 1, 3})): True, QuantifierModel(name='2142', M=frozenset({0, 1, 3}), A=frozenset({0, 3}), B=frozenset({0, 1, 3})): True, QuantifierModel(name='2143', M=frozenset({0, 1, 3}), A=frozenset({0}), B=frozenset({0, 1})): True, QuantifierModel(name='2204', M=frozenset({0, 1, 2}), A=frozenset({0, 1, 2}), B=frozenset({0, 1})): True, QuantifierModel(name='2214', M=frozenset({0, 1, 2}), A=frozenset({0, 1}), B=frozenset({0, 1, 2})): True, QuantifierModel(name='2224', M=frozenset({0, 1, 2}), A=frozenset({0, 1, 2}), B=frozenset({0, 1, 2})): True, QuantifierModel(name='2234', M=frozenset({0, 1, 2}), A=frozenset({0, 1}), B=frozenset({0, 1})): True, QuantifierModel(name='2240', M=frozenset({0, 1, 3}), A=frozenset({0, 1, 3}), B=frozenset({0, 1})): True, QuantifierModel(name='2241', M=frozenset({0, 1, 3}), A=frozenset({0, 1}), B=frozenset({0, 1, 3})): True, QuantifierModel(name='2242', M=frozenset({0, 1, 3}), A=frozenset({0, 1, 3}), B=frozenset({0, 1, 3})): True, QuantifierModel(name='2243', M=frozenset({0, 1, 3}), A=frozenset({0, 1}), B=frozenset({0, 1})): True, QuantifierModel(name='2304', M=frozenset({0, 1, 2}), A=frozenset({0, 2}), B=frozenset({0})): True, QuantifierModel(name='2314', M=frozenset({0, 1, 2}), A=frozenset({0}), B=frozenset({0, 2})): True, QuantifierModel(name='2324', M=frozenset({0, 1, 2}), A=frozenset({0, 2}), B=frozenset({0, 2})): True, QuantifierModel(name='2334', M=frozenset({0, 1, 2}), A=frozenset({0}), B=frozenset({0})): True, QuantifierModel(name='2340', M=frozenset({0, 1, 3}), A=frozenset({0, 3}), B=frozenset({0})): True, QuantifierModel(name='2341', M=frozenset({0, 1, 3}), A=frozenset({0}), B=frozenset({0, 3})): True, QuantifierModel(name='2342', M=frozenset({0, 1, 3}), A=frozenset({0, 3}), B=frozenset({0, 3})): True, QuantifierModel(name='2343', M=frozenset({0, 1, 3}), A=frozenset({0}), B=frozenset({0})): True, QuantifierModel(name='2400', M=frozenset({0, 2, 3}), A=frozenset({0, 2, 3}), B=frozenset({0})): True, QuantifierModel(name='2401', M=frozenset({0, 2, 3}), A=frozenset({0, 2}), B=frozenset({0, 3})): True, QuantifierModel(name='2402', M=frozenset({0, 2, 3}), A=frozenset({0, 2, 3}), B=frozenset({0, 3})): True, QuantifierModel(name='2403', M=frozenset({0, 2, 3}), A=frozenset({0, 2}), B=frozenset({0})): True, QuantifierModel(name='2410', M=frozenset({0, 2, 3}), A=frozenset({0, 3}), B=frozenset({0, 2})): True, QuantifierModel(name='2411', M=frozenset({0, 2, 3}), A=frozenset({0}), B=frozenset({0, 2, 3})): True, QuantifierModel(name='2412', M=frozenset({0, 2, 3}), A=frozenset({0, 3}), B=frozenset({0, 2, 3})): True, QuantifierModel(name='2413', M=frozenset({0, 2, 3}), A=frozenset({0}), B=frozenset({0, 2})): True, QuantifierModel(name='2420', M=frozenset({0, 2, 3}), A=frozenset({0, 2, 3}), B=frozenset({0, 2})): True, QuantifierModel(name='2421', M=frozenset({0, 2, 3}), A=frozenset({0, 2}), B=frozenset({0, 2, 3})): True, QuantifierModel(name='2422', M=frozenset({0, 2, 3}), A=frozenset({0, 2, 3}), B=frozenset({0, 2, 3})): True, QuantifierModel(name='2423', M=frozenset({0, 2, 3}), A=frozenset({0, 2}), B=frozenset({0, 2})): True, QuantifierModel(name='2430', M=frozenset({0, 2, 3}), A=frozenset({0, 3}), B=frozenset({0})): True, QuantifierModel(name='2431', M=frozenset({0, 2, 3}), A=frozenset({0}), B=frozenset({0, 3})): True, QuantifierModel(name='2432', M=frozenset({0, 2, 3}), A=frozenset({0, 3}), B=frozenset({0, 3})): True, QuantifierModel(name='2433', M=frozenset({0, 2, 3}), A=frozenset({0}), B=frozenset({0})): True, QuantifierModel(name='3004', M=frozenset({0, 1, 2}), A=frozenset({1, 2}), B=frozenset()): True, QuantifierModel(name='3014', M=frozenset({0, 1, 2}), A=frozenset({1}), B=frozenset({2})): True, QuantifierModel(name='3024', M=frozenset({0, 1, 2}), A=frozenset({1, 2}), B=frozenset({2})): True, QuantifierModel(name='3034', M=frozenset({0, 1, 2}), A=frozenset({1}), B=frozenset()): True, QuantifierModel(name='3040', M=frozenset({0, 1, 3}), A=frozenset({1, 3}), B=frozenset()): True, QuantifierModel(name='3041', M=frozenset({0, 1, 3}), A=frozenset({1}), B=frozenset({3})): True, QuantifierModel(name='3042', M=frozenset({0, 1, 3}), A=frozenset({1, 3}), B=frozenset({3})): True, QuantifierModel(name='3043', M=frozenset({0, 1, 3}), A=frozenset({1}), B=frozenset()): True, QuantifierModel(name='3104', M=frozenset({0, 1, 2}), A=frozenset({2}), B=frozenset({1})): True, QuantifierModel(name='3114', M=frozenset({0, 1, 2}), A=frozenset(), B=frozenset({1, 2})): True, QuantifierModel(name='3124', M=frozenset({0, 1, 2}), A=frozenset({2}), B=frozenset({1, 2})): True, QuantifierModel(name='3134', M=frozenset({0, 1, 2}), A=frozenset(), B=frozenset({1})): True, QuantifierModel(name='3140', M=frozenset({0, 1, 3}), A=frozenset({3}), B=frozenset({1})): True, QuantifierModel(name='3141', M=frozenset({0, 1, 3}), A=frozenset(), B=frozenset({1, 3})): True, QuantifierModel(name='3142', M=frozenset({0, 1, 3}), A=frozenset({3}), B=frozenset({1, 3})): True, QuantifierModel(name='3143', M=frozenset({0, 1, 3}), A=frozenset(), B=frozenset({1})): True, QuantifierModel(name='3204', M=frozenset({0, 1, 2}), A=frozenset({1, 2}), B=frozenset({1})): True, QuantifierModel(name='3214', M=frozenset({0, 1, 2}), A=frozenset({1}), B=frozenset({1, 2})): True, QuantifierModel(name='3224', M=frozenset({0, 1, 2}), A=frozenset({1, 2}), B=frozenset({1, 2})): True, QuantifierModel(name='3234', M=frozenset({0, 1, 2}), A=frozenset({1}), B=frozenset({1})): True, QuantifierModel(name='3240', M=frozenset({0, 1, 3}), A=frozenset({1, 3}), B=frozenset({1})): True, QuantifierModel(name='3241', M=frozenset({0, 1, 3}), A=frozenset({1}), B=frozenset({1, 3})): True, QuantifierModel(name='3242', M=frozenset({0, 1, 3}), A=frozenset({1, 3}), B=frozenset({1, 3})): True, QuantifierModel(name='3243', M=frozenset({0, 1, 3}), A=frozenset({1}), B=frozenset({1})): True, QuantifierModel(name='3304', M=frozenset({0, 1, 2}), A=frozenset({2}), B=frozenset()): True, QuantifierModel(name='3314', M=frozenset({0, 1, 2}), A=frozenset(), B=frozenset({2})): True, QuantifierModel(name='3324', M=frozenset({0, 1, 2}), A=frozenset({2}), B=frozenset({2})): True, QuantifierModel(name='3334', M=frozenset({0, 1, 2}), A=frozenset(), B=frozenset()): True, QuantifierModel(name='3340', M=frozenset({0, 1, 3}), A=frozenset({3}), B=frozenset()): True, QuantifierModel(name='3341', M=frozenset({0, 1, 3}), A=frozenset(), B=frozenset({3})): True, QuantifierModel(name='3342', M=frozenset({0, 1, 3}), A=frozenset({3}), B=frozenset({3})): True, QuantifierModel(name='3343', M=frozenset({0, 1, 3}), A=frozenset(), B=frozenset()): True, QuantifierModel(name='3400', M=frozenset({0, 2, 3}), A=frozenset({2, 3}), B=frozenset()): True, QuantifierModel(name='3401', M=frozenset({0, 2, 3}), A=frozenset({2}), B=frozenset({3})): True, QuantifierModel(name='3402', M=frozenset({0, 2, 3}), A=frozenset({2, 3}), B=frozenset({3})): True, QuantifierModel(name='3403', M=frozenset({0, 2, 3}), A=frozenset({2}), B=frozenset()): True, QuantifierModel(name='3410', M=frozenset({0, 2, 3}), A=frozenset({3}), B=frozenset({2})): True, QuantifierModel(name='3411', M=frozenset({0, 2, 3}), A=frozenset(), B=frozenset({2, 3})): True, QuantifierModel(name='3412', M=frozenset({0, 2, 3}), A=frozenset({3}), B=frozenset({2, 3})): True, QuantifierModel(name='3413', M=frozenset({0, 2, 3}), A=frozenset(), B=frozenset({2})): True, QuantifierModel(name='3420', M=frozenset({0, 2, 3}), A=frozenset({2, 3}), B=frozenset({2})): True, QuantifierModel(name='3421', M=frozenset({0, 2, 3}), A=frozenset({2}), B=frozenset({2, 3})): True, QuantifierModel(name='3422', M=frozenset({0, 2, 3}), A=frozenset({2, 3}), B=frozenset({2, 3})): True, QuantifierModel(name='3423', M=frozenset({0, 2, 3}), A=frozenset({2}), B=frozenset({2})): True, QuantifierModel(name='3430', M=frozenset({0, 2, 3}), A=frozenset({3}), B=frozenset()): True, QuantifierModel(name='3431', M=frozenset({0, 2, 3}), A=frozenset(), B=frozenset({3})): True, QuantifierModel(name='3432', M=frozenset({0, 2, 3}), A=frozenset({3}), B=frozenset({3})): True, QuantifierModel(name='3433', M=frozenset({0, 2, 3}), A=frozenset(), B=frozenset()): True, QuantifierModel(name='4000', M=frozenset({1, 2, 3}), A=frozenset({1, 2, 3}), B=frozenset()): True, QuantifierModel(name='4001', M=frozenset({1, 2, 3}), A=frozenset({1, 2}), B=frozenset({3})): True, QuantifierModel(name='4002', M=frozenset({1, 2, 3}), A=frozenset({1, 2, 3}), B=frozenset({3})): True, QuantifierModel(name='4003', M=frozenset({1, 2, 3}), A=frozenset({1, 2}), B=frozenset()): True, QuantifierModel(name='4010', M=frozenset({1, 2, 3}), A=frozenset({1, 3}), B=frozenset({2})): True, QuantifierModel(name='4011', M=frozenset({1, 2, 3}), A=frozenset({1}), B=frozenset({2, 3})): True, QuantifierModel(name='4012', M=frozenset({1, 2, 3}), A=frozenset({1, 3}), B=frozenset({2, 3})): True, QuantifierModel(name='4013', M=frozenset({1, 2, 3}), A=frozenset({1}), B=frozenset({2})): True, QuantifierModel(name='4020', M=frozenset({1, 2, 3}), A=frozenset({1, 2, 3}), B=frozenset({2})): True, QuantifierModel(name='4021', M=frozenset({1, 2, 3}), A=frozenset({1, 2}), B=frozenset({2, 3})): True, QuantifierModel(name='4022', M=frozenset({1, 2, 3}), A=frozenset({1, 2, 3}), B=frozenset({2, 3})): True, QuantifierModel(name='4023', M=frozenset({1, 2, 3}), A=frozenset({1, 2}), B=frozenset({2})): True, QuantifierModel(name='4030', M=frozenset({1, 2, 3}), A=frozenset({1, 3}), B=frozenset()): True, QuantifierModel(name='4031', M=frozenset({1, 2, 3}), A=frozenset({1}), B=frozenset({3})): True, QuantifierModel(name='4032', M=frozenset({1, 2, 3}), A=frozenset({1, 3}), B=frozenset({3})): True, QuantifierModel(name='4033', M=frozenset({1, 2, 3}), A=frozenset({1}), B=frozenset()): True, QuantifierModel(name='4100', M=frozenset({1, 2, 3}), A=frozenset({2, 3}), B=frozenset({1})): True, QuantifierModel(name='4101', M=frozenset({1, 2, 3}), A=frozenset({2}), B=frozenset({1, 3})): True, QuantifierModel(name='4102', M=frozenset({1, 2, 3}), A=frozenset({2, 3}), B=frozenset({1, 3})): True, QuantifierModel(name='4103', M=frozenset({1, 2, 3}), A=frozenset({2}), B=frozenset({1})): True, QuantifierModel(name='4110', M=frozenset({1, 2, 3}), A=frozenset({3}), B=frozenset({1, 2})): True, QuantifierModel(name='4111', M=frozenset({1, 2, 3}), A=frozenset(), B=frozenset({1, 2, 3})): True, QuantifierModel(name='4112', M=frozenset({1, 2, 3}), A=frozenset({3}), B=frozenset({1, 2, 3})): True, QuantifierModel(name='4113', M=frozenset({1, 2, 3}), A=frozenset(), B=frozenset({1, 2})): True, QuantifierModel(name='4120', M=frozenset({1, 2, 3}), A=frozenset({2, 3}), B=frozenset({1, 2})): True, QuantifierModel(name='4121', M=frozenset({1, 2, 3}), A=frozenset({2}), B=frozenset({1, 2, 3})): True, QuantifierModel(name='4122', M=frozenset({1, 2, 3}), A=frozenset({2, 3}), B=frozenset({1, 2, 3})): True, QuantifierModel(name='4123', M=frozenset({1, 2, 3}), A=frozenset({2}), B=frozenset({1, 2})): True, QuantifierModel(name='4130', M=frozenset({1, 2, 3}), A=frozenset({3}), B=frozenset({1})): True, QuantifierModel(name='4131', M=frozenset({1, 2, 3}), A=frozenset(), B=frozenset({1, 3})): True, QuantifierModel(name='4132', M=frozenset({1, 2, 3}), A=frozenset({3}), B=frozenset({1, 3})): True, QuantifierModel(name='4133', M=frozenset({1, 2, 3}), A=frozenset(), B=frozenset({1})): True, QuantifierModel(name='4200', M=frozenset({1, 2, 3}), A=frozenset({1, 2, 3}), B=frozenset({1})): True, QuantifierModel(name='4201', M=frozenset({1, 2, 3}), A=frozenset({1, 2}), B=frozenset({1, 3})): True, QuantifierModel(name='4202', M=frozenset({1, 2, 3}), A=frozenset({1, 2, 3}), B=frozenset({1, 3})): True, QuantifierModel(name='4203', M=frozenset({1, 2, 3}), A=frozenset({1, 2}), B=frozenset({1})): True, QuantifierModel(name='4210', M=frozenset({1, 2, 3}), A=frozenset({1, 3}), B=frozenset({1, 2})): True, QuantifierModel(name='4211', M=frozenset({1, 2, 3}), A=frozenset({1}), B=frozenset({1, 2, 3})): True, QuantifierModel(name='4212', M=frozenset({1, 2, 3}), A=frozenset({1, 3}), B=frozenset({1, 2, 3})): True, QuantifierModel(name='4213', M=frozenset({1, 2, 3}), A=frozenset({1}), B=frozenset({1, 2})): True, QuantifierModel(name='4220', M=frozenset({1, 2, 3}), A=frozenset({1, 2, 3}), B=frozenset({1, 2})): True, QuantifierModel(name='4221', M=frozenset({1, 2, 3}), A=frozenset({1, 2}), B=frozenset({1, 2, 3})): True, QuantifierModel(name='4222', M=frozenset({1, 2, 3}), A=frozenset({1, 2, 3}), B=frozenset({1, 2, 3})): True, QuantifierModel(name='4223', M=frozenset({1, 2, 3}), A=frozenset({1, 2}), B=frozenset({1, 2})): True, QuantifierModel(name='4230', M=frozenset({1, 2, 3}), A=frozenset({1, 3}), B=frozenset({1})): True, QuantifierModel(name='4231', M=frozenset({1, 2, 3}), A=frozenset({1}), B=frozenset({1, 3})): True, QuantifierModel(name='4232', M=frozenset({1, 2, 3}), A=frozenset({1, 3}), B=frozenset({1, 3})): True, QuantifierModel(name='4233', M=frozenset({1, 2, 3}), A=frozenset({1}), B=frozenset({1})): True, QuantifierModel(name='4300', M=frozenset({1, 2, 3}), A=frozenset({2, 3}), B=frozenset()): True, QuantifierModel(name='4301', M=frozenset({1, 2, 3}), A=frozenset({2}), B=frozenset({3})): True, QuantifierModel(name='4302', M=frozenset({1, 2, 3}), A=frozenset({2, 3}), B=frozenset({3})): True, QuantifierModel(name='4303', M=frozenset({1, 2, 3}), A=frozenset({2}), B=frozenset()): True, QuantifierModel(name='4310', M=frozenset({1, 2, 3}), A=frozenset({3}), B=frozenset({2})): True, QuantifierModel(name='4311', M=frozenset({1, 2, 3}), A=frozenset(), B=frozenset({2, 3})): True, QuantifierModel(name='4312', M=frozenset({1, 2, 3}), A=frozenset({3}), B=frozenset({2, 3})): True, QuantifierModel(name='4313', M=frozenset({1, 2, 3}), A=frozenset(), B=frozenset({2})): True, QuantifierModel(name='4320', M=frozenset({1, 2, 3}), A=frozenset({2, 3}), B=frozenset({2})): True, QuantifierModel(name='4321', M=frozenset({1, 2, 3}), A=frozenset({2}), B=frozenset({2, 3})): True, QuantifierModel(name='4322', M=frozenset({1, 2, 3}), A=frozenset({2, 3}), B=frozenset({2, 3})): True, QuantifierModel(name='4323', M=frozenset({1, 2, 3}), A=frozenset({2}), B=frozenset({2})): True, QuantifierModel(name='4330', M=frozenset({1, 2, 3}), A=frozenset({3}), B=frozenset()): True, QuantifierModel(name='4331', M=frozenset({1, 2, 3}), A=frozenset(), B=frozenset({3})): True, QuantifierModel(name='4332', M=frozenset({1, 2, 3}), A=frozenset({3}), B=frozenset({3})): True, QuantifierModel(name='4333', M=frozenset({1, 2, 3}), A=frozenset(), B=frozenset()): True}), universe=QuantifierUniverse(referents=(QuantifierModel(name='4212', M=frozenset({1, 2, 3}), A=frozenset({1, 3}), B=frozenset({1, 2, 3})), QuantifierModel(name='2240', M=frozenset({0, 1, 3}), A=frozenset({0, 1, 3}), B=frozenset({0, 1})), QuantifierModel(name='2430', M=frozenset({0, 2, 3}), A=frozenset({0, 3}), B=frozenset({0})), QuantifierModel(name='0041', M=frozenset({0, 1, 3}), A=frozenset({0, 1}), B=frozenset({3})), QuantifierModel(name='4013', M=frozenset({1, 2, 3}), A=frozenset({1}), B=frozenset({2})), QuantifierModel(name='4101', M=frozenset({1, 2, 3}), A=frozenset({2}), B=frozenset({1, 3})), QuantifierModel(name='1430', M=frozenset({0, 2, 3}), A=frozenset({3}), B=frozenset({0})), QuantifierModel(name='1431', M=frozenset({0, 2, 3}), A=frozenset(), B=frozenset({0, 3})), QuantifierModel(name='4311', M=frozenset({1, 2, 3}), A=frozenset(), B=frozenset({2, 3})), QuantifierModel(name='3340', M=frozenset({0, 1, 3}), A=frozenset({3}), B=frozenset()), QuantifierModel(name='2104', M=frozenset({0, 1, 2}), A=frozenset({0, 2}), B=frozenset({0, 1})), QuantifierModel(name='2343', M=frozenset({0, 1, 3}), A=frozenset({0}), B=frozenset({0})), QuantifierModel(name='3431', M=frozenset({0, 2, 3}), A=frozenset(), B=frozenset({3})), QuantifierModel(name='4020', M=frozenset({1, 2, 3}), A=frozenset({1, 2, 3}), B=frozenset({2})), QuantifierModel(name='1214', M=frozenset({0, 1, 2}), A=frozenset({1}), B=frozenset({0, 1, 2})), QuantifierModel(name='1411', M=frozenset({0, 2, 3}), A=frozenset(), B=frozenset({0, 2, 3})), QuantifierModel(name='1124', M=frozenset({0, 1, 2}), A=frozenset({2}), B=frozenset({0, 1, 2})), QuantifierModel(name='3400', M=frozenset({0, 2, 3}), A=frozenset({2, 3}), B=frozenset()), QuantifierModel(name='0004', M=frozenset({0, 1, 2}), A=frozenset({0, 1, 2}), B=frozenset()), QuantifierModel(name='0334', M=frozenset({0, 1, 2}), A=frozenset({0}), B=frozenset()), QuantifierModel(name='4331', M=frozenset({1, 2, 3}), A=frozenset(), B=frozenset({3})), QuantifierModel(name='1334', M=frozenset({0, 1, 2}), A=frozenset(), B=frozenset({0})), QuantifierModel(name='0142', M=frozenset({0, 1, 3}), A=frozenset({0, 3}), B=frozenset({1, 3})), QuantifierModel(name='1043', M=frozenset({0, 1, 3}), A=frozenset({1}), B=frozenset({0})), QuantifierModel(name='4123', M=frozenset({1, 2, 3}), A=frozenset({2}), B=frozenset({1, 2})), QuantifierModel(name='3420', M=frozenset({0, 2, 3}), A=frozenset({2, 3}), B=frozenset({2})), QuantifierModel(name='0243', M=frozenset({0, 1, 3}), A=frozenset({0, 1}), B=frozenset({1})), QuantifierModel(name='4330', M=frozenset({1, 2, 3}), A=frozenset({3}), B=frozenset()), QuantifierModel(name='4120', M=frozenset({1, 2, 3}), A=frozenset({2, 3}), B=frozenset({1, 2})), QuantifierModel(name='4231', M=frozenset({1, 2, 3}), A=frozenset({1}), B=frozenset({1, 3})), QuantifierModel(name='0114', M=frozenset({0, 1, 2}), A=frozenset({0}), B=frozenset({1, 2})), QuantifierModel(name='4021', M=frozenset({1, 2, 3}), A=frozenset({1, 2}), B=frozenset({2, 3})), QuantifierModel(name='0214', M=frozenset({0, 1, 2}), A=frozenset({0, 1}), B=frozenset({1, 2})), QuantifierModel(name='0141', M=frozenset({0, 1, 3}), A=frozenset({0}), B=frozenset({1, 3})), QuantifierModel(name='4113', M=frozenset({1, 2, 3}), A=frozenset(), B=frozenset({1, 2})), QuantifierModel(name='4033', M=frozenset({1, 2, 3}), A=frozenset({1}), B=frozenset()), QuantifierModel(name='4221', M=frozenset({1, 2, 3}), A=frozenset({1, 2}), B=frozenset({1, 2, 3})), QuantifierModel(name='4323', M=frozenset({1, 2, 3}), A=frozenset({2}), B=frozenset({2})), QuantifierModel(name='2014', M=frozenset({0, 1, 2}), A=frozenset({0, 1}), B=frozenset({0, 2})), QuantifierModel(name='1422', M=frozenset({0, 2, 3}), A=frozenset({2, 3}), B=frozenset({0, 2, 3})), QuantifierModel(name='4023', M=frozenset({1, 2, 3}), A=frozenset({1, 2}), B=frozenset({2})), QuantifierModel(name='0410', M=frozenset({0, 2, 3}), A=frozenset({0, 3}), B=frozenset({2})), QuantifierModel(name='4322', M=frozenset({1, 2, 3}), A=frozenset({2, 3}), B=frozenset({2, 3})), QuantifierModel(name='4000', M=frozenset({1, 2, 3}), A=frozenset({1, 2, 3}), B=frozenset()), QuantifierModel(name='3324', M=frozenset({0, 1, 2}), A=frozenset({2}), B=frozenset({2})), QuantifierModel(name='0140', M=frozenset({0, 1, 3}), A=frozenset({0, 3}), B=frozenset({1})), QuantifierModel(name='3413', M=frozenset({0, 2, 3}), A=frozenset(), B=frozenset({2})), QuantifierModel(name='4321', M=frozenset({1, 2, 3}), A=frozenset({2}), B=frozenset({2, 3})), QuantifierModel(name='2241', M=frozenset({0, 1, 3}), A=frozenset({0, 1}), B=frozenset({0, 1, 3})), QuantifierModel(name='2134', M=frozenset({0, 1, 2}), A=frozenset({0}), B=frozenset({0, 1})), QuantifierModel(name='3423', M=frozenset({0, 2, 3}), A=frozenset({2}), B=frozenset({2})), QuantifierModel(name='3412', M=frozenset({0, 2, 3}), A=frozenset({3}), B=frozenset({2, 3})), QuantifierModel(name='0430', M=frozenset({0, 2, 3}), A=frozenset({0, 3}), B=frozenset()), QuantifierModel(name='0104', M=frozenset({0, 1, 2}), A=frozenset({0, 2}), B=frozenset({1})), QuantifierModel(name='2410', M=frozenset({0, 2, 3}), A=frozenset({0, 3}), B=frozenset({0, 2})), QuantifierModel(name='3432', M=frozenset({0, 2, 3}), A=frozenset({3}), B=frozenset({3})), QuantifierModel(name='3422', M=frozenset({0, 2, 3}), A=frozenset({2, 3}), B=frozenset({2, 3})), QuantifierModel(name='4003', M=frozenset({1, 2, 3}), A=frozenset({1, 2}), B=frozenset()), QuantifierModel(name='0042', M=frozenset({0, 1, 3}), A=frozenset({0, 1, 3}), B=frozenset({3})), QuantifierModel(name='4103', M=frozenset({1, 2, 3}), A=frozenset({2}), B=frozenset({1})), QuantifierModel(name='0314', M=frozenset({0, 1, 2}), A=frozenset({0}), B=frozenset({2})), QuantifierModel(name='1413', M=frozenset({0, 2, 3}), A=frozenset(), B=frozenset({0, 2})), QuantifierModel(name='3402', M=frozenset({0, 2, 3}), A=frozenset({2, 3}), B=frozenset({3})), QuantifierModel(name='4032', M=frozenset({1, 2, 3}), A=frozenset({1, 3}), B=frozenset({3})), QuantifierModel(name='0403', M=frozenset({0, 2, 3}), A=frozenset({0, 2}), B=frozenset()), QuantifierModel(name='2401', M=frozenset({0, 2, 3}), A=frozenset({0, 2}), B=frozenset({0, 3})), QuantifierModel(name='0224', M=frozenset({0, 1, 2}), A=frozenset({0, 1, 2}), B=frozenset({1, 2})), QuantifierModel(name='4213', M=frozenset({1, 2, 3}), A=frozenset({1}), B=frozenset({1, 2})), QuantifierModel(name='2043', M=frozenset({0, 1, 3}), A=frozenset({0, 1}), B=frozenset({0})), QuantifierModel(name='2234', M=frozenset({0, 1, 2}), A=frozenset({0, 1}), B=frozenset({0, 1})), QuantifierModel(name='4211', M=frozenset({1, 2, 3}), A=frozenset({1}), B=frozenset({1, 2, 3})), QuantifierModel(name='3342', M=frozenset({0, 1, 3}), A=frozenset({3}), B=frozenset({3})), QuantifierModel(name='1432', M=frozenset({0, 2, 3}), A=frozenset({3}), B=frozenset({0, 3})), QuantifierModel(name='2304', M=frozenset({0, 1, 2}), A=frozenset({0, 2}), B=frozenset({0})), QuantifierModel(name='0421', M=frozenset({0, 2, 3}), A=frozenset({0, 2}), B=frozenset({2, 3})), QuantifierModel(name='0034', M=frozenset({0, 1, 2}), A=frozenset({0, 1}), B=frozenset()), QuantifierModel(name='3243', M=frozenset({0, 1, 3}), A=frozenset({1}), B=frozenset({1})), QuantifierModel(name='3142', M=frozenset({0, 1, 3}), A=frozenset({3}), B=frozenset({1, 3})), QuantifierModel(name='4310', M=frozenset({1, 2, 3}), A=frozenset({3}), B=frozenset({2})), QuantifierModel(name='2413', M=frozenset({0, 2, 3}), A=frozenset({0}), B=frozenset({0, 2})), QuantifierModel(name='4010', M=frozenset({1, 2, 3}), A=frozenset({1, 3}), B=frozenset({2})), QuantifierModel(name='2214', M=frozenset({0, 1, 2}), A=frozenset({0, 1}), B=frozenset({0, 1, 2})), QuantifierModel(name='3341', M=frozenset({0, 1, 3}), A=frozenset(), B=frozenset({3})), QuantifierModel(name='3410', M=frozenset({0, 2, 3}), A=frozenset({3}), B=frozenset({2})), QuantifierModel(name='2114', M=frozenset({0, 1, 2}), A=frozenset({0}), B=frozenset({0, 1, 2})), QuantifierModel(name='2324', M=frozenset({0, 1, 2}), A=frozenset({0, 2}), B=frozenset({0, 2})), QuantifierModel(name='2204', M=frozenset({0, 1, 2}), A=frozenset({0, 1, 2}), B=frozenset({0, 1})), QuantifierModel(name='3140', M=frozenset({0, 1, 3}), A=frozenset({3}), B=frozenset({1})), QuantifierModel(name='0401', M=frozenset({0, 2, 3}), A=frozenset({0, 2}), B=frozenset({3})), QuantifierModel(name='1421', M=frozenset({0, 2, 3}), A=frozenset({2}), B=frozenset({0, 2, 3})), QuantifierModel(name='4300', M=frozenset({1, 2, 3}), A=frozenset({2, 3}), B=frozenset()), QuantifierModel(name='0400', M=frozenset({0, 2, 3}), A=frozenset({0, 2, 3}), B=frozenset()), QuantifierModel(name='4303', M=frozenset({1, 2, 3}), A=frozenset({2}), B=frozenset()), QuantifierModel(name='0422', M=frozenset({0, 2, 3}), A=frozenset({0, 2, 3}), B=frozenset({2, 3})), QuantifierModel(name='2341', M=frozenset({0, 1, 3}), A=frozenset({0}), B=frozenset({0, 3})), QuantifierModel(name='1403', M=frozenset({0, 2, 3}), A=frozenset({2}), B=frozenset({0})), QuantifierModel(name='4112', M=frozenset({1, 2, 3}), A=frozenset({3}), B=frozenset({1, 2, 3})), QuantifierModel(name='1410', M=frozenset({0, 2, 3}), A=frozenset({3}), B=frozenset({0, 2})), QuantifierModel(name='4022', M=frozenset({1, 2, 3}), A=frozenset({1, 2, 3}), B=frozenset({2, 3})), QuantifierModel(name='2040', M=frozenset({0, 1, 3}), A=frozenset({0, 1, 3}), B=frozenset({0})), QuantifierModel(name='0043', M=frozenset({0, 1, 3}), A=frozenset({0, 1}), B=frozenset()), QuantifierModel(name='0304', M=frozenset({0, 1, 2}), A=frozenset({0, 2}), B=frozenset()), QuantifierModel(name='4302', M=frozenset({1, 2, 3}), A=frozenset({2, 3}), B=frozenset({3})), QuantifierModel(name='2004', M=frozenset({0, 1, 2}), A=frozenset({0, 1, 2}), B=frozenset({0})), QuantifierModel(name='1041', M=frozenset({0, 1, 3}), A=frozenset({1}), B=frozenset({0, 3})), QuantifierModel(name='3104', M=frozenset({0, 1, 2}), A=frozenset({2}), B=frozenset({1})), QuantifierModel(name='3304', M=frozenset({0, 1, 2}), A=frozenset({2}), B=frozenset()), QuantifierModel(name='4210', M=frozenset({1, 2, 3}), A=frozenset({1, 3}), B=frozenset({1, 2})), QuantifierModel(name='1240', M=frozenset({0, 1, 3}), A=frozenset({1, 3}), B=frozenset({0, 1})), QuantifierModel(name='1242', M=frozenset({0, 1, 3}), A=frozenset({1, 3}), B=frozenset({0, 1, 3})), QuantifierModel(name='3240', M=frozenset({0, 1, 3}), A=frozenset({1, 3}), B=frozenset({1})), QuantifierModel(name='2420', M=frozenset({0, 2, 3}), A=frozenset({0, 2, 3}), B=frozenset({0, 2})), QuantifierModel(name='3242', M=frozenset({0, 1, 3}), A=frozenset({1, 3}), B=frozenset({1, 3})), QuantifierModel(name='1224', M=frozenset({0, 1, 2}), A=frozenset({1, 2}), B=frozenset({0, 1, 2})), QuantifierModel(name='4102', M=frozenset({1, 2, 3}), A=frozenset({2, 3}), B=frozenset({1, 3})), QuantifierModel(name='3234', M=frozenset({0, 1, 2}), A=frozenset({1}), B=frozenset({1})), QuantifierModel(name='0343', M=frozenset({0, 1, 3}), A=frozenset({0}), B=frozenset()), QuantifierModel(name='3041', M=frozenset({0, 1, 3}), A=frozenset({1}), B=frozenset({3})), QuantifierModel(name='3124', M=frozenset({0, 1, 2}), A=frozenset({2}), B=frozenset({1, 2})), QuantifierModel(name='1134', M=frozenset({0, 1, 2}), A=frozenset(), B=frozenset({0, 1})), QuantifierModel(name='4031', M=frozenset({1, 2, 3}), A=frozenset({1}), B=frozenset({3})), QuantifierModel(name='0431', M=frozenset({0, 2, 3}), A=frozenset({0}), B=frozenset({3})), QuantifierModel(name='1343', M=frozenset({0, 1, 3}), A=frozenset(), B=frozenset({0})), QuantifierModel(name='4301', M=frozenset({1, 2, 3}), A=frozenset({2}), B=frozenset({3})), QuantifierModel(name='1342', M=frozenset({0, 1, 3}), A=frozenset({3}), B=frozenset({0, 3})), QuantifierModel(name='0204', M=frozenset({0, 1, 2}), A=frozenset({0, 1, 2}), B=frozenset({1})), QuantifierModel(name='3024', M=frozenset({0, 1, 2}), A=frozenset({1, 2}), B=frozenset({2})), QuantifierModel(name='2403', M=frozenset({0, 2, 3}), A=frozenset({0, 2}), B=frozenset({0})), QuantifierModel(name='1420', M=frozenset({0, 2, 3}), A=frozenset({2, 3}), B=frozenset({0, 2})), QuantifierModel(name='1314', M=frozenset({0, 1, 2}), A=frozenset(), B=frozenset({0, 2})), QuantifierModel(name='1142', M=frozenset({0, 1, 3}), A=frozenset({3}), B=frozenset({0, 1, 3})), QuantifierModel(name='4131', M=frozenset({1, 2, 3}), A=frozenset(), B=frozenset({1, 3})), QuantifierModel(name='1324', M=frozenset({0, 1, 2}), A=frozenset({2}), B=frozenset({0, 2})), QuantifierModel(name='3004', M=frozenset({0, 1, 2}), A=frozenset({1, 2}), B=frozenset()), QuantifierModel(name='2124', M=frozenset({0, 1, 2}), A=frozenset({0, 2}), B=frozenset({0, 1, 2})), QuantifierModel(name='4111', M=frozenset({1, 2, 3}), A=frozenset(), B=frozenset({1, 2, 3})), QuantifierModel(name='3204', M=frozenset({0, 1, 2}), A=frozenset({1, 2}), B=frozenset({1})), QuantifierModel(name='0134', M=frozenset({0, 1, 2}), A=frozenset({0}), B=frozenset({1})), QuantifierModel(name='1412', M=frozenset({0, 2, 3}), A=frozenset({3}), B=frozenset({0, 2, 3})), QuantifierModel(name='1402', M=frozenset({0, 2, 3}), A=frozenset({2, 3}), B=frozenset({0, 3})), QuantifierModel(name='0412', M=frozenset({0, 2, 3}), A=frozenset({0, 3}), B=frozenset({2, 3})), QuantifierModel(name='4130', M=frozenset({1, 2, 3}), A=frozenset({3}), B=frozenset({1})), QuantifierModel(name='2224', M=frozenset({0, 1, 2}), A=frozenset({0, 1, 2}), B=frozenset({0, 1, 2})), QuantifierModel(name='4201', M=frozenset({1, 2, 3}), A=frozenset({1, 2}), B=frozenset({1, 3})), QuantifierModel(name='1024', M=frozenset({0, 1, 2}), A=frozenset({1, 2}), B=frozenset({0, 2})), QuantifierModel(name='2143', M=frozenset({0, 1, 3}), A=frozenset({0}), B=frozenset({0, 1})), QuantifierModel(name='0340', M=frozenset({0, 1, 3}), A=frozenset({0, 3}), B=frozenset()), QuantifierModel(name='4132', M=frozenset({1, 2, 3}), A=frozenset({3}), B=frozenset({1, 3})), QuantifierModel(name='2402', M=frozenset({0, 2, 3}), A=frozenset({0, 2, 3}), B=frozenset({0, 3})), QuantifierModel(name='2421', M=frozenset({0, 2, 3}), A=frozenset({0, 2}), B=frozenset({0, 2, 3})), QuantifierModel(name='1400', M=frozenset({0, 2, 3}), A=frozenset({2, 3}), B=frozenset({0})), QuantifierModel(name='3224', M=frozenset({0, 1, 2}), A=frozenset({1, 2}), B=frozenset({1, 2})), QuantifierModel(name='4313', M=frozenset({1, 2, 3}), A=frozenset(), B=frozenset({2})), QuantifierModel(name='1433', M=frozenset({0, 2, 3}), A=frozenset(), B=frozenset({0})), QuantifierModel(name='1114', M=frozenset({0, 1, 2}), A=frozenset(), B=frozenset({0, 1, 2})), QuantifierModel(name='1140', M=frozenset({0, 1, 3}), A=frozenset({3}), B=frozenset({0, 1})), QuantifierModel(name='2431', M=frozenset({0, 2, 3}), A=frozenset({0}), B=frozenset({0, 3})), QuantifierModel(name='2141', M=frozenset({0, 1, 3}), A=frozenset({0}), B=frozenset({0, 1, 3})), QuantifierModel(name='2412', M=frozenset({0, 2, 3}), A=frozenset({0, 3}), B=frozenset({0, 2, 3})), QuantifierModel(name='4312', M=frozenset({1, 2, 3}), A=frozenset({3}), B=frozenset({2, 3})), QuantifierModel(name='4200', M=frozenset({1, 2, 3}), A=frozenset({1, 2, 3}), B=frozenset({1})), QuantifierModel(name='3040', M=frozenset({0, 1, 3}), A=frozenset({1, 3}), B=frozenset()), QuantifierModel(name='0241', M=frozenset({0, 1, 3}), A=frozenset({0, 1}), B=frozenset({1, 3})), QuantifierModel(name='4232', M=frozenset({1, 2, 3}), A=frozenset({1, 3}), B=frozenset({1, 3})), QuantifierModel(name='0014', M=frozenset({0, 1, 2}), A=frozenset({0, 1}), B=frozenset({2})), QuantifierModel(name='3141', M=frozenset({0, 1, 3}), A=frozenset(), B=frozenset({1, 3})), QuantifierModel(name='0423', M=frozenset({0, 2, 3}), A=frozenset({0, 2}), B=frozenset({2})), QuantifierModel(name='3114', M=frozenset({0, 1, 2}), A=frozenset(), B=frozenset({1, 2})), QuantifierModel(name='1034', M=frozenset({0, 1, 2}), A=frozenset({1}), B=frozenset({0})), QuantifierModel(name='4012', M=frozenset({1, 2, 3}), A=frozenset({1, 3}), B=frozenset({2, 3})), QuantifierModel(name='2422', M=frozenset({0, 2, 3}), A=frozenset({0, 2, 3}), B=frozenset({0, 2, 3})), QuantifierModel(name='4121', M=frozenset({1, 2, 3}), A=frozenset({2}), B=frozenset({1, 2, 3})), QuantifierModel(name='0240', M=frozenset({0, 1, 3}), A=frozenset({0, 1, 3}), B=frozenset({1})), QuantifierModel(name='4320', M=frozenset({1, 2, 3}), A=frozenset({2, 3}), B=frozenset({2})), QuantifierModel(name='1304', M=frozenset({0, 1, 2}), A=frozenset({2}), B=frozenset({0})), QuantifierModel(name='4223', M=frozenset({1, 2, 3}), A=frozenset({1, 2}), B=frozenset({1, 2})), QuantifierModel(name='4133', M=frozenset({1, 2, 3}), A=frozenset(), B=frozenset({1})), QuantifierModel(name='4110', M=frozenset({1, 2, 3}), A=frozenset({3}), B=frozenset({1, 2})), QuantifierModel(name='3430', M=frozenset({0, 2, 3}), A=frozenset({3}), B=frozenset()), QuantifierModel(name='0040', M=frozenset({0, 1, 3}), A=frozenset({0, 1, 3}), B=frozenset()), QuantifierModel(name='4220', M=frozenset({1, 2, 3}), A=frozenset({1, 2, 3}), B=frozenset({1, 2})), QuantifierModel(name='0341', M=frozenset({0, 1, 3}), A=frozenset({0}), B=frozenset({3})), QuantifierModel(name='0413', M=frozenset({0, 2, 3}), A=frozenset({0}), B=frozenset({2})), QuantifierModel(name='2042', M=frozenset({0, 1, 3}), A=frozenset({0, 1, 3}), B=frozenset({0, 3})), QuantifierModel(name='4203', M=frozenset({1, 2, 3}), A=frozenset({1, 2}), B=frozenset({1})), QuantifierModel(name='0324', M=frozenset({0, 1, 2}), A=frozenset({0, 2}), B=frozenset({2})), QuantifierModel(name='2342', M=frozenset({0, 1, 3}), A=frozenset({0, 3}), B=frozenset({0, 3})), QuantifierModel(name='4230', M=frozenset({1, 2, 3}), A=frozenset({1, 3}), B=frozenset({1})), QuantifierModel(name='3042', M=frozenset({0, 1, 3}), A=frozenset({1, 3}), B=frozenset({3})), QuantifierModel(name='1042', M=frozenset({0, 1, 3}), A=frozenset({1, 3}), B=frozenset({0, 3})), QuantifierModel(name='2423', M=frozenset({0, 2, 3}), A=frozenset({0, 2}), B=frozenset({0, 2})), QuantifierModel(name='3411', M=frozenset({0, 2, 3}), A=frozenset(), B=frozenset({2, 3})), QuantifierModel(name='4011', M=frozenset({1, 2, 3}), A=frozenset({1}), B=frozenset({2, 3})), QuantifierModel(name='2140', M=frozenset({0, 1, 3}), A=frozenset({0, 3}), B=frozenset({0, 1})), QuantifierModel(name='0402', M=frozenset({0, 2, 3}), A=frozenset({0, 2, 3}), B=frozenset({3})), QuantifierModel(name='4122', M=frozenset({1, 2, 3}), A=frozenset({2, 3}), B=frozenset({1, 2, 3})), QuantifierModel(name='3241', M=frozenset({0, 1, 3}), A=frozenset({1}), B=frozenset({1, 3})), QuantifierModel(name='3014', M=frozenset({0, 1, 2}), A=frozenset({1}), B=frozenset({2})), QuantifierModel(name='0432', M=frozenset({0, 2, 3}), A=frozenset({0, 3}), B=frozenset({3})), QuantifierModel(name='2242', M=frozenset({0, 1, 3}), A=frozenset({0, 1, 3}), B=frozenset({0, 1, 3})), QuantifierModel(name='4222', M=frozenset({1, 2, 3}), A=frozenset({1, 2, 3}), B=frozenset({1, 2, 3})), QuantifierModel(name='1104', M=frozenset({0, 1, 2}), A=frozenset({2}), B=frozenset({0, 1})), QuantifierModel(name='3214', M=frozenset({0, 1, 2}), A=frozenset({1}), B=frozenset({1, 2})), QuantifierModel(name='2400', M=frozenset({0, 2, 3}), A=frozenset({0, 2, 3}), B=frozenset({0})), QuantifierModel(name='2411', M=frozenset({0, 2, 3}), A=frozenset({0}), B=frozenset({0, 2, 3})), QuantifierModel(name='1423', M=frozenset({0, 2, 3}), A=frozenset({2}), B=frozenset({0, 2})), QuantifierModel(name='2024', M=frozenset({0, 1, 2}), A=frozenset({0, 1, 2}), B=frozenset({0, 2})), QuantifierModel(name='1143', M=frozenset({0, 1, 3}), A=frozenset(), B=frozenset({0, 1})), QuantifierModel(name='4100', M=frozenset({1, 2, 3}), A=frozenset({2, 3}), B=frozenset({1})), QuantifierModel(name='4001', M=frozenset({1, 2, 3}), A=frozenset({1, 2}), B=frozenset({3})), QuantifierModel(name='1241', M=frozenset({0, 1, 3}), A=frozenset({1}), B=frozenset({0, 1, 3})), QuantifierModel(name='2314', M=frozenset({0, 1, 2}), A=frozenset({0}), B=frozenset({0, 2})), QuantifierModel(name='3314', M=frozenset({0, 1, 2}), A=frozenset(), B=frozenset({2})), QuantifierModel(name='3034', M=frozenset({0, 1, 2}), A=frozenset({1}), B=frozenset()), QuantifierModel(name='4333', M=frozenset({1, 2, 3}), A=frozenset(), B=frozenset()), QuantifierModel(name='2334', M=frozenset({0, 1, 2}), A=frozenset({0}), B=frozenset({0})), QuantifierModel(name='3043', M=frozenset({0, 1, 3}), A=frozenset({1}), B=frozenset()), QuantifierModel(name='1234', M=frozenset({0, 1, 2}), A=frozenset({1}), B=frozenset({0, 1})), QuantifierModel(name='0342', M=frozenset({0, 1, 3}), A=frozenset({0, 3}), B=frozenset({3})), QuantifierModel(name='4002', M=frozenset({1, 2, 3}), A=frozenset({1, 2, 3}), B=frozenset({3})), QuantifierModel(name='4030', M=frozenset({1, 2, 3}), A=frozenset({1, 3}), B=frozenset()), QuantifierModel(name='1141', M=frozenset({0, 1, 3}), A=frozenset(), B=frozenset({0, 1, 3})), QuantifierModel(name='4233', M=frozenset({1, 2, 3}), A=frozenset({1}), B=frozenset({1})), QuantifierModel(name='4332', M=frozenset({1, 2, 3}), A=frozenset({3}), B=frozenset({3})), QuantifierModel(name='2041', M=frozenset({0, 1, 3}), A=frozenset({0, 1}), B=frozenset({0, 3})), QuantifierModel(name='0242', M=frozenset({0, 1, 3}), A=frozenset({0, 1, 3}), B=frozenset({1, 3})), QuantifierModel(name='1341', M=frozenset({0, 1, 3}), A=frozenset(), B=frozenset({0, 3})), QuantifierModel(name='3421', M=frozenset({0, 2, 3}), A=frozenset({2}), B=frozenset({2, 3})), QuantifierModel(name='1243', M=frozenset({0, 1, 3}), A=frozenset({1}), B=frozenset({0, 1})), QuantifierModel(name='3134', M=frozenset({0, 1, 2}), A=frozenset(), B=frozenset({1})), QuantifierModel(name='3143', M=frozenset({0, 1, 3}), A=frozenset(), B=frozenset({1})), QuantifierModel(name='0143', M=frozenset({0, 1, 3}), A=frozenset({0}), B=frozenset({1})), QuantifierModel(name='3343', M=frozenset({0, 1, 3}), A=frozenset(), B=frozenset()), QuantifierModel(name='0234', M=frozenset({0, 1, 2}), A=frozenset({0, 1}), B=frozenset({1})), QuantifierModel(name='2340', M=frozenset({0, 1, 3}), A=frozenset({0, 3}), B=frozenset({0})), QuantifierModel(name='2433', M=frozenset({0, 2, 3}), A=frozenset({0}), B=frozenset({0})), QuantifierModel(name='0411', M=frozenset({0, 2, 3}), A=frozenset({0}), B=frozenset({2, 3})), QuantifierModel(name='4202', M=frozenset({1, 2, 3}), A=frozenset({1, 2, 3}), B=frozenset({1, 3})), QuantifierModel(name='3401', M=frozenset({0, 2, 3}), A=frozenset({2}), B=frozenset({3})), QuantifierModel(name='0420', M=frozenset({0, 2, 3}), A=frozenset({0, 2, 3}), B=frozenset({2})), QuantifierModel(name='1040', M=frozenset({0, 1, 3}), A=frozenset({1, 3}), B=frozenset({0})), QuantifierModel(name='1204', M=frozenset({0, 1, 2}), A=frozenset({1, 2}), B=frozenset({0, 1})), QuantifierModel(name='1014', M=frozenset({0, 1, 2}), A=frozenset({1}), B=frozenset({0, 2})), QuantifierModel(name='2034', M=frozenset({0, 1, 2}), A=frozenset({0, 1}), B=frozenset({0})), QuantifierModel(name='0024', M=frozenset({0, 1, 2}), A=frozenset({0, 1, 2}), B=frozenset({2})), QuantifierModel(name='3433', M=frozenset({0, 2, 3}), A=frozenset(), B=frozenset()), QuantifierModel(name='2142', M=frozenset({0, 1, 3}), A=frozenset({0, 3}), B=frozenset({0, 1, 3})), QuantifierModel(name='1340', M=frozenset({0, 1, 3}), A=frozenset({3}), B=frozenset({0})), QuantifierModel(name='3334', M=frozenset({0, 1, 2}), A=frozenset(), B=frozenset()), QuantifierModel(name='3403', M=frozenset({0, 2, 3}), A=frozenset({2}), B=frozenset()), QuantifierModel(name='1004', M=frozenset({0, 1, 2}), A=frozenset({1, 2}), B=frozenset({0})), QuantifierModel(name='0124', M=frozenset({0, 1, 2}), A=frozenset({0, 2}), B=frozenset({1, 2})), QuantifierModel(name='2432', M=frozenset({0, 2, 3}), A=frozenset({0, 3}), B=frozenset({0, 3})), QuantifierModel(name='0433', M=frozenset({0, 2, 3}), A=frozenset({0}), B=frozenset()), QuantifierModel(name='1401', M=frozenset({0, 2, 3}), A=frozenset({2}), B=frozenset({0, 3})), QuantifierModel(name='2243', M=frozenset({0, 1, 3}), A=frozenset({0, 1}), B=frozenset({0, 1}))), prior=(0.00390625, 0.00390625, 0.00390625, 0.00390625, 0.00390625, 0.00390625, 0.00390625, 0.00390625, 0.00390625, 0.00390625, 0.00390625, 0.00390625, 0.00390625, 0.00390625, 0.00390625, 0.00390625, 0.00390625, 0.00390625, 0.00390625, 0.00390625, 0.00390625, 0.00390625, 0.00390625, 0.00390625, 0.00390625, 0.00390625, 0.00390625, 0.00390625, 0.00390625, 0.00390625, 0.00390625, 0.00390625, 0.00390625, 0.00390625, 0.00390625, 0.00390625, 0.00390625, 0.00390625, 0.00390625, 0.00390625, 0.00390625, 0.00390625, 0.00390625, 0.00390625, 0.00390625, 0.00390625, 0.00390625, 0.00390625, 0.00390625, 0.00390625, 0.00390625, 0.00390625, 0.00390625, 0.00390625, 0.00390625, 0.00390625, 0.00390625, 0.00390625, 0.00390625, 0.00390625, 0.00390625, 0.00390625, 0.00390625, 0.00390625, 0.00390625, 0.00390625, 0.00390625, 0.00390625, 0.00390625, 0.00390625, 0.00390625, 0.00390625, 0.00390625, 0.00390625, 0.00390625, 0.00390625, 0.00390625, 0.00390625, 0.00390625, 0.00390625, 0.00390625, 0.00390625, 0.00390625, 0.00390625, 0.00390625, 0.00390625, 0.00390625, 0.00390625, 0.00390625, 0.00390625, 0.00390625, 0.00390625, 0.00390625, 0.00390625, 0.00390625, 0.00390625, 0.00390625, 0.00390625, 0.00390625, 0.00390625, 0.00390625, 0.00390625, 0.00390625, 0.00390625, 0.00390625, 0.00390625, 0.00390625, 0.00390625, 0.00390625, 0.00390625, 0.00390625, 0.00390625, 0.00390625, 0.00390625, 0.00390625, 0.00390625, 0.00390625, 0.00390625, 0.00390625, 0.00390625, 0.00390625, 0.00390625, 0.00390625, 0.00390625, 0.00390625, 0.00390625, 0.00390625, 0.00390625, 0.00390625, 0.00390625, 0.00390625, 0.00390625, 0.00390625, 0.00390625, 0.00390625, 0.00390625, 0.00390625, 0.00390625, 0.00390625, 0.00390625, 0.00390625, 0.00390625, 0.00390625, 0.00390625, 0.00390625, 0.00390625, 0.00390625, 0.00390625, 0.00390625, 0.00390625, 0.00390625, 0.00390625, 0.00390625, 0.00390625, 0.00390625, 0.00390625, 0.00390625, 0.00390625, 0.00390625, 0.00390625, 0.00390625, 0.00390625, 0.00390625, 0.00390625, 0.00390625, 0.00390625, 0.00390625, 0.00390625, 0.00390625, 0.00390625, 0.00390625, 0.00390625, 0.00390625, 0.00390625, 0.00390625, 0.00390625, 0.00390625, 0.00390625, 0.00390625, 0.00390625, 0.00390625, 0.00390625, 0.00390625, 0.00390625, 0.00390625, 0.00390625, 0.00390625, 0.00390625, 0.00390625, 0.00390625, 0.00390625, 0.00390625, 0.00390625, 0.00390625, 0.00390625, 0.00390625, 0.00390625, 0.00390625, 0.00390625, 0.00390625, 0.00390625, 0.00390625, 0.00390625, 0.00390625, 0.00390625, 0.00390625, 0.00390625, 0.00390625, 0.00390625, 0.00390625, 0.00390625, 0.00390625, 0.00390625, 0.00390625, 0.00390625, 0.00390625, 0.00390625, 0.00390625, 0.00390625, 0.00390625, 0.00390625, 0.00390625, 0.00390625, 0.00390625, 0.00390625, 0.00390625, 0.00390625, 0.00390625, 0.00390625, 0.00390625, 0.00390625, 0.00390625, 0.00390625, 0.00390625, 0.00390625, 0.00390625, 0.00390625, 0.00390625, 0.00390625, 0.00390625, 0.00390625, 0.00390625, 0.00390625, 0.00390625, 0.00390625, 0.00390625, 0.00390625, 0.00390625, 0.00390625, 0.00390625, 0.00390625, 0.00390625, 0.00390625, 0.00390625, 0.00390625, 0.00390625), m_size=3, x_size=4), _dist=FrozenDict({}))"
      ]
     },
     "execution_count": 39,
     "metadata": {},
     "output_type": "execute_result"
    }
   ],
   "source": [
    "expressions[0].meaning"
   ]
  }
 ],
 "metadata": {
  "kernelspec": {
   "display_name": "altk",
   "language": "python",
   "name": "python3"
  },
  "language_info": {
   "codemirror_mode": {
    "name": "ipython",
    "version": 3
   },
   "file_extension": ".py",
   "mimetype": "text/x-python",
   "name": "python",
   "nbconvert_exporter": "python",
   "pygments_lexer": "ipython3",
   "version": "3.12.1"
  },
  "orig_nbformat": 4
 },
 "nbformat": 4,
 "nbformat_minor": 2
}
