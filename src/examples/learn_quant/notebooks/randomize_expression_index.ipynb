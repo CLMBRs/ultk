{
 "cells": [
  {
   "cell_type": "code",
   "execution_count": null,
   "metadata": {},
   "outputs": [],
   "source": [
    "%%capture\n",
    "%cd ../.."
   ]
  },
  {
   "cell_type": "code",
   "execution_count": null,
   "metadata": {},
   "outputs": [],
   "source": [
    "import ultk.language.grammar\n",
    "from ultk.language.grammar import Grammar\n",
    "from learn_quant.grammar import quantifiers_grammar\n",
    "from learn_quant.quantifier import QuantifierUniverse\n",
    "from learn_quant.util import read_expressions, calculate_term_expression_depth\n",
    "from learn_quant.monotonicity import *\n",
    "from importlib import reload\n",
    "import numpy as np\n",
    "from typing import Iterable\n",
    "\n",
    "reload(ultk.language.grammar)"
   ]
  },
  {
   "cell_type": "code",
   "execution_count": null,
   "metadata": {},
   "outputs": [],
   "source": [
    "from hydra import compose, initialize\n",
    "from omegaconf import OmegaConf\n",
    "initialize(version_base=None, config_path=\"../conf\", job_name=\"test_app\")\n",
    "cfg = compose(config_name=\"config\", overrides=[\"recipe=base\"])"
   ]
  },
  {
   "cell_type": "code",
   "execution_count": null,
   "metadata": {},
   "outputs": [],
   "source": [
    "expressions, _ = read_expressions(\"../outputs/M4/X4/d5/generated_expressions_xidx.yml\", add_indices=False)"
   ]
  },
  {
   "cell_type": "markdown",
   "metadata": {},
   "source": [
    "#### Create a sample of expressions \n",
    "If depth > 3, random\n",
    "\n",
    "Otherwise, include in sample"
   ]
  },
  {
   "cell_type": "code",
   "execution_count": null,
   "metadata": {},
   "outputs": [],
   "source": [
    "import random\n",
    "expressions_sample = []\n",
    "shuffled_expressions = random.sample(expressions, len(expressions))\n",
    "\n",
    "for expression in shuffled_expressions:\n",
    "    if calculate_term_expression_depth(expression.term_expression) <= 3:\n",
    "        expressions_sample.append(expression)\n",
    "\n",
    "for expression in shuffled_expressions:\n",
    "    if calculate_term_expression_depth(expression.term_expression) > 3:\n",
    "        expressions_sample.append(expression)\n",
    "    if len(expressions_sample) >= 2000:\n",
    "        break"
   ]
  },
  {
   "cell_type": "code",
   "execution_count": null,
   "metadata": {},
   "outputs": [],
   "source": [
    "len(expressions_sample)"
   ]
  },
  {
   "cell_type": "code",
   "execution_count": null,
   "metadata": {},
   "outputs": [],
   "source": [
    "import csv\n",
    "\n",
    "# Build a dictionary from the original list of expressions\n",
    "# mapping term_expression -> original index\n",
    "expression_index_map = {\n",
    "    expr.term_expression: i\n",
    "    for i, expr in enumerate(expressions)\n",
    "}\n",
    "\n",
    "with open('expressions_sample_2k.csv', 'w', newline='') as csvfile:\n",
    "    fieldnames = ['index', 'term_expression', 'original_index']\n",
    "    writer = csv.DictWriter(csvfile, fieldnames=fieldnames)\n",
    "    writer.writeheader()\n",
    "\n",
    "    for idx, expression in enumerate(expressions_sample):\n",
    "        original_idx = expression_index_map.get(expression.term_expression, None)\n",
    "        writer.writerow({\n",
    "            'index': idx,\n",
    "            'term_expression': expression.term_expression,\n",
    "            'original_index': original_idx\n",
    "        })"
   ]
  }
 ],
 "metadata": {
  "kernelspec": {
   "display_name": "altk",
   "language": "python",
   "name": "python3"
  },
  "language_info": {
   "name": "python",
   "version": "3.12.1"
  }
 },
 "nbformat": 4,
 "nbformat_minor": 2
}
